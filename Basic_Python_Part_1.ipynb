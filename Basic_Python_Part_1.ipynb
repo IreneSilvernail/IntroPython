{
  "cells": [
    {
      "cell_type": "markdown",
      "metadata": {
        "id": "LR2z4SDatsPu"
      },
      "source": [
        "# Day 2: Variables and Flow Control\n",
        "\n",
        "## Learning Objectives\n",
        "\n",
        "* use a variable to store a number\n",
        "* use variables in a simple calculation\n",
        "* modify variables\n",
        "* write a simple `for` loop using the `range()` command\n",
        "* use ‘if’, ‘else’, and ‘elif’ to check for simple conditions\n",
        "* make a very basic plot\n"
      ]
    },
    {
      "cell_type": "markdown",
      "metadata": {
        "id": "8Ki99X9atsP0"
      },
      "source": [
        "# Supplemental videos\n",
        "\n",
        "Before beginning this module, please watch Video 2.1 *Variables and Flow* https://youtu.be/yQ_3oAa2QD0"
      ]
    },
    {
      "cell_type": "markdown",
      "metadata": {
        "id": "XsbFHB48tsP2"
      },
      "source": [
        "## Beyond Python as a calculator: Jupyter Cells\n",
        "\n",
        "The first step to make Python become more than a calculator is to write a routine (also known as a program or a code). A routine is a series of commands that can be executed in sequence. Within Jupyter, each cell forms its own little program that can be executed all at once.  For example, we may put a number into a variable and then print it:\n",
        "\n",
        "    y = 3.0 + 6.0/7.0 - 2.0**3.0\n",
        "    print(y)\n",
        "    \n",
        "Exercise: Execute the above code\n"
      ]
    },
    {
      "cell_type": "code",
      "execution_count": null,
      "metadata": {
        "id": "dcV5CBzutsP3",
        "colab": {
          "base_uri": "https://localhost:8080/"
        },
        "outputId": "ac4c8a84-92ba-4950-d3bc-de24c7d0d43f"
      },
      "outputs": [
        {
          "output_type": "stream",
          "name": "stdout",
          "text": [
            "-4.142857142857142\n"
          ]
        }
      ],
      "source": [
        "y = 3.0 + 6.0/7.0 - 2.0**3.0\n",
        "print(y)"
      ]
    },
    {
      "cell_type": "markdown",
      "metadata": {
        "id": "MLyjpoNVtsP4"
      },
      "source": [
        "## Warning: Variables in Jupyter are _persistent_: that is, they carry across cells. To see this, print the variable `y` in the cell below."
      ]
    },
    {
      "cell_type": "code",
      "execution_count": null,
      "metadata": {
        "id": "T4SzfkdutsP4",
        "colab": {
          "base_uri": "https://localhost:8080/"
        },
        "outputId": "c8b0c9eb-b868-4be7-fb77-fe379c46f7a6"
      },
      "outputs": [
        {
          "output_type": "stream",
          "name": "stdout",
          "text": [
            "-4.142857142857142\n"
          ]
        }
      ],
      "source": [
        "print(y)\n"
      ]
    },
    {
      "cell_type": "markdown",
      "metadata": {
        "id": "BfIWtCQutsP5"
      },
      "source": [
        "You can think of a variable as a little blank space where the computer stores a thing for you.  When we write\n",
        "\n",
        "    a = 2\n",
        "    \n",
        "The computer finds a blank piece of memory, writes the number `2` into it, and remembers that you called it `a`. This way, when you next write\n",
        "\n",
        "    print(a)\n",
        "    \n",
        "It knows to go back and look at the place in memory called `a`.\n",
        "\n",
        "The usage of the `=` here is somewhat different than we're used to in math.  Rather than an equation, it's an _assignment_ operator.  It reads: _take the thing on the right of the `=` (2), and put it in the memory location referred to by the thing on the left (`a`)_.\n",
        "\n",
        "Variables may be overwritten, modified, etc.  Here's a bit of code:\n",
        "\n",
        "    a = 10\n",
        "    b = a + 3\n",
        "    a = 0\n",
        "    print(a,b)\n",
        "    \n",
        "What is the output of this program?  Why?"
      ]
    },
    {
      "cell_type": "code",
      "execution_count": null,
      "metadata": {
        "id": "yG_DnYBftsP5",
        "colab": {
          "base_uri": "https://localhost:8080/"
        },
        "outputId": "f0eaa07f-e255-4791-9069-90410a9771f8"
      },
      "outputs": [
        {
          "output_type": "stream",
          "name": "stdout",
          "text": [
            "0 13\n"
          ]
        }
      ],
      "source": [
        "a = 10\n",
        "b = a + 3\n",
        "a = 0\n",
        "print(a,b)"
      ]
    },
    {
      "cell_type": "markdown",
      "metadata": {
        "id": "fu3b3hyttsP6"
      },
      "source": [
        "## A simple piece of code\n",
        "\n",
        "Consider the motion of a ball thrown vertically. It’s height y as a function of time t is given by:\n",
        "\n",
        "$y(t) = v_0t − (1/2)gt^2$\n",
        "\n",
        "where we’ve used the origin as the initial height. Suppose we want to compute the position of the ball at $t = 2$s, given an initial velocity of $v_0 = 10$m/s. Here is a simple code that will carry out the calculation:\n",
        "\n",
        "\n",
        "    # Height of an object thrown vertically upward\n",
        "    \n",
        "    t = 2.0    # time at which we want the position (s)\n",
        "    v0 = 10.0  # initial velocity (m/s)\n",
        "    g = 9.8    # acceleration due to gravity (m/s**2)\n",
        "    \n",
        "    y = v0*t - 0.5*g*t**2  # compute the vertical position\n",
        "    print(y)\n",
        "    \n",
        "    \n",
        "There are few things to note about the above routine.\n",
        "\n",
        "First, comments are used throughout the code to explain what is going on. A comment is anything that begins with a `#`, either on its own line or at the end of another. Commenting your code will help anyone who reads it later—including yourself.\n",
        "\n",
        "Second, we assigned variables to the numbers. This is especially useful when the same quantity (like the time t) will be used multiple times throughout the routine. If you decide to change the value of that quantity, you only have to make the change in one place. Finally, blank lines have been inserted between the logical breaks in the code. The code begins with a header. The next section is where all of the variables are defined. Next is the section where the result is computed. The final section is where the output is returned. Separating the code like this improves its readability.\n",
        "\n",
        "__Exercise: Run the code found above in the cell below__\n",
        "\n",
        "\n",
        "\n",
        "<br>\n",
        "To further improve things, we can modify the print statement to include some explanation. Change the final line of your routine to something like:\n",
        "\n",
        "     print(\"The height at t = {} seconds is y = {} meters\".format(t,y))\n",
        "     \n",
        "There are other ways to create this same output. Try the following:\n",
        "\n",
        "     print(\"The height at t = \", t, \"seconds is y = \", y, \"meters\")\n",
        "     \n",
        "Here, the output consists of strings and variables. Here is another method:\n",
        "\n",
        "     print(\"The height at t = \"+str(t)+\" seconds is y = \"+str(y)+\" meters\")\n",
        "     \n",
        "In this case, we have transformed the numbers into strings and then concatenated everything into a single string.  Note that in the last case we're using `+`, which concatenates the string, rather than giving multiple\n",
        "arguments (separated by `,`s) to `print()`.\n",
        "\n",
        "__Exercise: Copy the code from above in the cell below and modify it to include some explanation in the print statement.__\n"
      ]
    },
    {
      "cell_type": "code",
      "execution_count": null,
      "metadata": {
        "id": "NE-QNf4OtsP7",
        "colab": {
          "base_uri": "https://localhost:8080/"
        },
        "outputId": "d1b881d4-58e5-41a4-b65d-2401991fbf2e"
      },
      "outputs": [
        {
          "output_type": "stream",
          "name": "stdout",
          "text": [
            "5.1\n",
            "The height at t =  1.0 seconds is y =  5.1 meters\n",
            "The height at t = 1.0 seconds is y = 5.1 meters\n",
            "The height at t = 1.0 seconds is y = 5.1 meters\n"
          ]
        }
      ],
      "source": [
        "# Height of an object thrown vertically upward\n",
        "\n",
        "t = 1.0    # time at which we want the position (s)\n",
        "v0 = 10.0  # initial velocity (m/s)\n",
        "g = 9.8    # acceleration due to gravity (m/s**2)\n",
        "\n",
        "y = v0*t - 0.5*g*t**2  # compute the vertical position\n",
        "print(y)\n",
        "print(\"The height at t = \", t, \"seconds is y = \", y, \"meters\")\n",
        "print(\"The height at t = {} seconds is y = {} meters\".format(t,y))\n",
        "print(\"The height at t = \"+str(t)+\" seconds is y = \"+str(y)+\" meters\")"
      ]
    },
    {
      "cell_type": "markdown",
      "metadata": {
        "id": "i8e7CNCPtsP7"
      },
      "source": [
        "Some things to notice about this bit of code:\n",
        "\n",
        "1. Any number that can be a non-integer has a `.0` after it.  This is to avoid confusion and a GOOD RULE TO FOLLOW\n",
        "2. Python is obeying order of operations as we expect -- the last term is being evaluated as `0.5 * g * (t**2)`\n",
        "3. We have copiously commented what this code does\n",
        "    "
      ]
    },
    {
      "cell_type": "markdown",
      "metadata": {
        "id": "493ewHIWtsP8"
      },
      "source": [
        "## The `for` loop\n",
        "\n",
        "If we wanted to have the position of the thrown object at a lot of times, changing the code and re-running it over and over is somewhat inefficient. Luckily for us, computers are very good at repetitive behaviour. Programming languages thus provide a few constructs that enable this – these are called ‘loops’. One of these is called a `for` loop.\n",
        "The for loop is named because it embodies the idea: ‘for every X in Y, do something’. As a concrete example, if you are making something with egg yolks, you may have the following algorithm:\n",
        "\n",
        "    for every egg I have to add:\n",
        "        break the egg\n",
        "        separate the yolk from the egg whites\n",
        "        add the yolk to the bowl\n",
        "        \n",
        "In python, we can use the `for` command in this way.  Suppose we want to print all the numbers from 1 to 10.  This can be accomplished with the bit of code in the cell below:\n"
      ]
    },
    {
      "cell_type": "code",
      "execution_count": null,
      "metadata": {
        "id": "noXWl9qMtsP9",
        "colab": {
          "base_uri": "https://localhost:8080/"
        },
        "outputId": "31f04351-3910-4c18-85ad-0e8e7678db68"
      },
      "outputs": [
        {
          "output_type": "stream",
          "name": "stdout",
          "text": [
            "Number 1\n",
            "Number 2\n",
            "Number 3\n",
            "Number 4\n",
            "Number 5\n",
            "Number 6\n",
            "Number 7\n",
            "Number 8\n",
            "Number 9\n",
            "Number 10\n",
            "I'm done!\n"
          ]
        }
      ],
      "source": [
        "\n",
        "for n in range(1,11):\n",
        "    print(\"Number\",n)\n",
        "print(\"I'm done!\")\n"
      ]
    },
    {
      "cell_type": "markdown",
      "metadata": {
        "id": "a7ELpLittsP_"
      },
      "source": [
        "Let's dissect this bit of code a bit.  The `range` command produces a list of numbers from 1 to 10. We'll learn more about lists soon, but for now, remember that `range(a,b)` produces a list from `a` to `b-1`. (You can try this out in the cell above).\n",
        "\n",
        "The `for` command assigns each element of this list to the variable `n`, one by one.  Notice the colon `:` after the `for` command.\n",
        "\n",
        "The ‘do something’ part of the loop is indicated by the __indentation__ of the line:\n",
        "\n",
        "    print(\"Number\",n)\n",
        "    \n",
        "it is offset from the left by a fixed number of spaces, or a tab. It doesn’t matter which you use, as long as you are consistent – you cannot switch from using 4 spaces to 5 spaces for indentation, nor can you switch from any number of spaces to using a tab.\n",
        "\n",
        "At the end, we remove the indentation, which signals the end of the loop.\n",
        "\n",
        "We can, of course, do some more complicated things in the loop. For example, we may wish to print the number and its square:\n",
        "\n",
        "    for n in range(1,11): # Produces numbers from 1 to 11-1=10 and assigns them to n one by one\n",
        "        print(n,n**2)\n",
        "        \n",
        "Try this out! Also to try: what does `range` do with floating point values?"
      ]
    },
    {
      "cell_type": "code",
      "execution_count": null,
      "metadata": {
        "id": "lYSOnGo6tsP_",
        "colab": {
          "base_uri": "https://localhost:8080/"
        },
        "outputId": "91b7a02c-3d45-4f5b-b7cb-bd860aebc792"
      },
      "outputs": [
        {
          "output_type": "stream",
          "name": "stdout",
          "text": [
            "1 1\n",
            "3 9\n",
            "5 25\n",
            "7 49\n",
            "9 81\n",
            "11 121\n",
            "13 169\n",
            "15 225\n",
            "17 289\n",
            "19 361\n",
            "Done.\n"
          ]
        }
      ],
      "source": [
        "for n in range(1,21,2):\n",
        "  print(n,n**2)\n",
        "print(\"Done.\")\n"
      ]
    },
    {
      "cell_type": "markdown",
      "metadata": {
        "id": "cVM74lm-tsP_"
      },
      "source": [
        "We can use the idea of a loop to evaluate our expression above for the position of a thrown ball for a bunch of different times.  Take your code above, and modify it so it prints the $y$ position for times $t$={0,1,2,3,4,5,6,7,8,9,10}.\n",
        "\n",
        "(You may want to turn gravity down a smidge, say to $2$ish m/s$^2$ so the object doesn't end up below the floor with a negative position.)"
      ]
    },
    {
      "cell_type": "code",
      "execution_count": null,
      "metadata": {
        "id": "yg9s9UmttsP_",
        "colab": {
          "base_uri": "https://localhost:8080/"
        },
        "outputId": "30ee4a6f-67bc-4ae0-f8b6-fe61c2902ffb"
      },
      "outputs": [
        {
          "output_type": "stream",
          "name": "stdout",
          "text": [
            "0.0\n",
            "25.1\n",
            "40.4\n",
            "45.9\n",
            "41.599999999999994\n",
            "27.499999999999986\n",
            "3.5999999999999943\n",
            "-30.100000000000023\n",
            "-73.60000000000002\n",
            "-126.90000000000003\n",
            "-190.00000000000006\n"
          ]
        }
      ],
      "source": [
        "for t in range(0,11):\n",
        "\n",
        "  v0 = 30.0  # initial velocity (m/s)\n",
        "  g = 9.8    # acceleration due to gravity (m/s**2)\n",
        "  y = v0*t - 0.5*g*t**2  # compute the vertical position\n",
        "  print(y)"
      ]
    },
    {
      "cell_type": "markdown",
      "metadata": {
        "id": "uZiDR0UPtsQA"
      },
      "source": [
        "We can use loops to do something other than just print numbers. We can create a new variable `s` for sum, and add all the numbers in the loop to it.\n",
        "\n",
        "    s = 0\n",
        "    for n in range(1,11):\n",
        "        s = s + n\n",
        "        print(\"I'm adding the number\",n,\"to the sum, which now contains the value\",s)\n",
        "    print(\"We're done! s now contains\",s)\n",
        "    \n",
        "Try running this in the cell below."
      ]
    },
    {
      "cell_type": "code",
      "execution_count": null,
      "metadata": {
        "id": "VG9bd-gqtsQA",
        "colab": {
          "base_uri": "https://localhost:8080/"
        },
        "outputId": "6e599e2c-0b7f-46ba-fdb0-f4dfa5699350"
      },
      "outputs": [
        {
          "output_type": "stream",
          "name": "stdout",
          "text": [
            "I'm adding the number 1 to the sum, which now contains the value 1\n",
            "I'm adding the number 2 to the sum, which now contains the value 3\n",
            "I'm adding the number 3 to the sum, which now contains the value 6\n",
            "I'm adding the number 4 to the sum, which now contains the value 10\n",
            "I'm adding the number 5 to the sum, which now contains the value 15\n",
            "I'm adding the number 6 to the sum, which now contains the value 21\n",
            "I'm adding the number 7 to the sum, which now contains the value 28\n",
            "I'm adding the number 8 to the sum, which now contains the value 36\n",
            "I'm adding the number 9 to the sum, which now contains the value 45\n",
            "I'm adding the number 10 to the sum, which now contains the value 55\n",
            "We're done! s now contains 55\n"
          ]
        }
      ],
      "source": [
        "s = 0\n",
        "for n in range(1,11):\n",
        "    s = s + n\n",
        "    print(\"I'm adding the number\",n,\"to the sum, which now contains the value\",s)\n",
        "print(\"We're done! s now contains\",s)"
      ]
    },
    {
      "cell_type": "markdown",
      "metadata": {
        "id": "tWVYT5FPtsQA"
      },
      "source": [
        "## Conditionals\n",
        "\n",
        "Sometimes, while our program is running, we will want it to do something if some condition is fulfilled. This is accomplished in python by, not surprisingly, an `if` statement, and its relative, `else`.\n",
        "\n",
        "For example, suppose we want to take our list of 10 numbers and print out whether they are odd or even. This is accomplished by checking to see whether the number is divisible by two. We’ll use the modulus operation that we learned about in the pre-class activities. If a number is even, its remainder when divided by 2 should be 0.\n",
        "\n",
        "For example:"
      ]
    },
    {
      "cell_type": "code",
      "execution_count": null,
      "metadata": {
        "id": "fNeTUuL_tsQA",
        "colab": {
          "base_uri": "https://localhost:8080/"
        },
        "outputId": "b1705e57-475e-4c67-b715-598786de35fe"
      },
      "outputs": [
        {
          "output_type": "stream",
          "name": "stdout",
          "text": [
            "16 is even!\n"
          ]
        }
      ],
      "source": [
        "N = 16\n",
        "if N % 2 == 0:  # N is even\n",
        "    print(N,'is even!')\n",
        "else:           # N is odd\n",
        "    print(N,'is odd!')"
      ]
    },
    {
      "cell_type": "markdown",
      "metadata": {
        "id": "7utwCNwAtsQB"
      },
      "source": [
        "Make sure you understand what the above does (and try changing the number N).  Notice that, just as with the `for` command, we indent to indicate the code block to execute, and there is a colon `:` following both the condition and the `else`.\n",
        "\n",
        "Notice the double equals sign `==` used in this piece of code. This is the comparison operator, and it is different from the assignment operator (`=`). Mixing these up is an extremely common typographical error! Here, the comparison operator checks to see whether the thing on the left hand side (the remainder of n divided by 2) and the right hand side (0) are equal.\n",
        "\n",
        "We can use `if` statements everywhere, including in the middle of a loop:"
      ]
    },
    {
      "cell_type": "code",
      "execution_count": null,
      "metadata": {
        "id": "XOdBPOQ2tsQB",
        "colab": {
          "base_uri": "https://localhost:8080/"
        },
        "outputId": "8e941f7e-7862-4291-c60e-006836787c7c"
      },
      "outputs": [
        {
          "output_type": "stream",
          "name": "stdout",
          "text": [
            "1 is odd!\n",
            "2 is even!\n",
            "3 is odd!\n",
            "4 is even!\n",
            "5 is odd!\n",
            "6 is even!\n",
            "7 is odd!\n",
            "8 is even!\n",
            "9 is odd!\n",
            "10 is even!\n"
          ]
        }
      ],
      "source": [
        "for n in range(1,11): # Produces numbers from 1 to 11-1=10 and assigns them to n one by one\n",
        "    if n % 2 == 0:  # N is even\n",
        "        print(n,'is even!')\n",
        "    else:           # N is odd\n",
        "        print(n,'is odd!')"
      ]
    },
    {
      "cell_type": "markdown",
      "source": [
        "**Never EVER** compare variables with **floating numbers**!!!\n",
        "**Never EVER** compare variables with **floating numbers**!!!\n",
        "**Never EVER** compare variables with **floating numbers**!!!\n",
        "**Never EVER** compare variables with **floating numbers**!!!\n",
        "**Never EVER** compare variables with **floating numbers**!!!"
      ],
      "metadata": {
        "id": "E2t1YfCRK1Od"
      }
    },
    {
      "cell_type": "code",
      "source": [
        "0.2 + 0.2 + 0.2 == 0.6"
      ],
      "metadata": {
        "id": "5y7Rv1E2K8ju",
        "colab": {
          "base_uri": "https://localhost:8080/"
        },
        "outputId": "2854bf7d-d39e-4ce2-b57c-eb37f99dea07"
      },
      "execution_count": null,
      "outputs": [
        {
          "output_type": "execute_result",
          "data": {
            "text/plain": [
              "False"
            ]
          },
          "metadata": {},
          "execution_count": 72
        }
      ]
    },
    {
      "cell_type": "code",
      "source": [
        "0.1 + 0.2 == 0.3\n",
        "print(.1+.2)\n"
      ],
      "metadata": {
        "id": "RP8KRSNSMKYS",
        "colab": {
          "base_uri": "https://localhost:8080/"
        },
        "outputId": "e8cb455f-9855-4955-da4e-101c64855a55"
      },
      "execution_count": null,
      "outputs": [
        {
          "output_type": "stream",
          "name": "stdout",
          "text": [
            "0.30000000000000004\n"
          ]
        }
      ]
    },
    {
      "cell_type": "markdown",
      "metadata": {
        "id": "OvhBt3Z7tsQC"
      },
      "source": [
        "Notice that once we're inside the `for` block of code, we indent *again* to indicate the bit of code to run in the `if` and `else` blocks."
      ]
    },
    {
      "cell_type": "markdown",
      "metadata": {
        "id": "eBPWOpdttsQC"
      },
      "source": [
        "## `and`, `or` & `not`\n",
        "\n",
        "It may be that you have multiple conditions you need to satisfy.  Say, for example, you'd like to know whether a number is odd and divisible by 3.  You can string the conditions after an `if` together in intuitive ways.  Additionally, you can use `not` to negate a condition:"
      ]
    },
    {
      "cell_type": "code",
      "execution_count": null,
      "metadata": {
        "id": "T297pQvytsQC",
        "colab": {
          "base_uri": "https://localhost:8080/"
        },
        "outputId": "ff04b53f-a210-4cbb-ea70-8747acb1b1d1"
      },
      "outputs": [
        {
          "output_type": "stream",
          "name": "stdout",
          "text": [
            "1 is odd!\n",
            "3 is odd and divisible by three!\n",
            "5 is odd!\n",
            "7 is odd!\n",
            "9 is odd and divisible by three!\n"
          ]
        }
      ],
      "source": [
        "for n in range(1,11):  # Produces numbers from 1 to 11-1=10 and assigns them to n one by one\n",
        "    if not n % 2 == 0 and n % 3==0:   # N is odd and divisible by 3\n",
        "        print(n,'is odd and divisible by three!')\n",
        "    elif not n % 2 == 0:                # N is odd\n",
        "        print(n,'is odd!')\n",
        ""
      ]
    },
    {
      "cell_type": "markdown",
      "metadata": {
        "id": "_kchOSpetsQC"
      },
      "source": [
        "Make sure that you understand the above statements and why python is printing what it's printing."
      ]
    },
    {
      "cell_type": "markdown",
      "metadata": {
        "id": "n6OIEMNNtsQD"
      },
      "source": [
        "## `else` and `elif`\n",
        "\n",
        "While the above works, it would be nice if we could check a condition after a first one is false.  For example, we might rewrite the above example in the following way which eliminates the double printing of numbers:"
      ]
    },
    {
      "cell_type": "code",
      "execution_count": null,
      "metadata": {
        "id": "4JkG5IHYtsQD",
        "colab": {
          "base_uri": "https://localhost:8080/"
        },
        "outputId": "a0c4f5ff-fa94-40b8-e44a-71858c39f516"
      },
      "outputs": [
        {
          "output_type": "stream",
          "name": "stdout",
          "text": [
            "1 is odd!\n",
            "2 is even!\n",
            "3 is odd and divisible by three!\n",
            "4 is even!\n",
            "5 is odd!\n",
            "6 is even!\n",
            "7 is odd!\n",
            "8 is even!\n",
            "9 is odd and divisible by three!\n",
            "10 is even!\n",
            "1 is odd!\n",
            "2 is even!\n",
            "3 is odd and divisible by three!\n",
            "4 is even!\n",
            "5 is odd!\n",
            "6 is even!\n",
            "7 is odd!\n",
            "8 is even!\n",
            "9 is odd and divisible by three!\n",
            "10 is even!\n"
          ]
        }
      ],
      "source": [
        "for n in range(1,11):\n",
        "    if not n % 2 == 0 and n % 3==0:\n",
        "        print(n,'is odd and divisible by three!')\n",
        "    elif not n % 2 == 0:\n",
        "        print(n,'is odd!')\n",
        "    else:\n",
        "        print(n,'is even!')\n",
        "for n in range(1,11):\n",
        "  if not n % 2 == 0:\n",
        "    if not n % 2 == 0 and n % 3==0:\n",
        "      print(n,'is odd and divisible by three!')\n",
        "    else:\n",
        "      print(n, 'is odd!')\n",
        "  else:\n",
        "    print(n, 'is even!')"
      ]
    },
    {
      "cell_type": "markdown",
      "metadata": {
        "id": "LlPQEDUmtsQD"
      },
      "source": [
        "Note that there is more than one way of accomplishing this.  In the cell below, write a small bit of code that produces the same output as the above but with nested if statements:\n",
        "\n",
        "    if something1:\n",
        "        if something1:\n",
        "            do a thing\n",
        "        else:\n",
        "            do a different thing\n",
        "    else:\n",
        "        do a more different thing"
      ]
    },
    {
      "cell_type": "markdown",
      "source": [
        "# Putting It All Together: Make your own Function"
      ],
      "metadata": {
        "id": "BOHL0p0ftmBN"
      }
    },
    {
      "cell_type": "markdown",
      "source": [
        "Python user-defined funciton\n",
        "\n",
        "```\n",
        "def any_function_name(input):\n",
        "    <operations>\n",
        "    ...\n",
        "    output = <do_something>\n",
        "    return output\n",
        "```\n",
        "\n"
      ],
      "metadata": {
        "id": "x2VsueNCtrMY"
      }
    },
    {
      "cell_type": "code",
      "source": [
        "import time"
      ],
      "metadata": {
        "id": "QIY48Cc2BGQL"
      },
      "execution_count": null,
      "outputs": []
    },
    {
      "cell_type": "code",
      "execution_count": null,
      "metadata": {
        "id": "D5VteJoAtsQE"
      },
      "outputs": [],
      "source": [
        "def add1minus2(x):\n",
        "    x = x + 1 - 2\n",
        "    return x"
      ]
    },
    {
      "cell_type": "code",
      "source": [
        "add1minus2(5)"
      ],
      "metadata": {
        "id": "okHVtnx4-9sc",
        "colab": {
          "base_uri": "https://localhost:8080/"
        },
        "outputId": "1f1197df-9d5f-43c4-84c0-21c3de287edb"
      },
      "execution_count": null,
      "outputs": [
        {
          "output_type": "execute_result",
          "data": {
            "text/plain": [
              "4"
            ]
          },
          "metadata": {},
          "execution_count": 34
        }
      ]
    },
    {
      "cell_type": "code",
      "source": [
        "def factorial(x):\n",
        "    tmp = 1\n",
        "    for i in range(1,x+1):\n",
        "        tmp *= i\n",
        "    return tmp\n",
        "\n",
        "def factorial_recursive(x):\n",
        "    if x == 1:\n",
        "        return 1\n",
        "    else:\n",
        "        return (x * factorial_recursive(x-1))"
      ],
      "metadata": {
        "id": "QO_qaNbP_CEE"
      },
      "execution_count": null,
      "outputs": []
    },
    {
      "cell_type": "code",
      "source": [
        "num = 100\n",
        "\n",
        "start = time.time()\n",
        "a = factorial(num)\n",
        "print('1st function takes {:.5} seconds to execute.'.format(time.time()-start))\n",
        "\n",
        "start = time.time()\n",
        "b = factorial_recursive(num)\n",
        "print('2nd function takes {:.5} seconds to execute.'.format(time.time()-start))\n"
      ],
      "metadata": {
        "id": "gTKuvDmu_L5R",
        "colab": {
          "base_uri": "https://localhost:8080/"
        },
        "outputId": "16973e92-f79c-4733-b2ad-ef9eb4c64147"
      },
      "execution_count": null,
      "outputs": [
        {
          "output_type": "stream",
          "name": "stdout",
          "text": [
            "1st function takes 8.2493e-05 seconds to execute.\n",
            "2nd function takes 0.00019431 seconds to execute.\n"
          ]
        }
      ]
    },
    {
      "cell_type": "code",
      "source": [],
      "metadata": {
        "id": "p3vM2WV_AndK"
      },
      "execution_count": null,
      "outputs": []
    },
    {
      "cell_type": "markdown",
      "source": [
        "#Data Structures: Lists, Arrays, Dictionaries, and Sets\n",
        "\n",
        "\n",
        "A list is a way that we store multiple items in a single variable. We can put any of type of variables into a list. Two basic examples:"
      ],
      "metadata": {
        "id": "GpiF5KDJuQ1e"
      }
    },
    {
      "cell_type": "code",
      "source": [
        "my_opinion = ['physics', 'is']\n",
        "numbers = [9, 7, 5, 3, 1, 0, 0]"
      ],
      "metadata": {
        "id": "Wu3viDlvuezN"
      },
      "execution_count": null,
      "outputs": []
    },
    {
      "cell_type": "markdown",
      "source": [
        "I haven't completed my_opinion. What is physics? We can use list.append() to add a new variable at the end of the list. Let's try it"
      ],
      "metadata": {
        "id": "0CUKEs1WwAbi"
      }
    },
    {
      "cell_type": "code",
      "source": [
        "negative_opinion = 'boring'\n",
        "my_opinion.append(negative_opinion)\n",
        "print(my_opinion)"
      ],
      "metadata": {
        "id": "xS9V5OIswWDN",
        "colab": {
          "base_uri": "https://localhost:8080/"
        },
        "outputId": "c1171fd9-009f-4129-f249-0767bafa0c92"
      },
      "execution_count": null,
      "outputs": [
        {
          "output_type": "stream",
          "name": "stdout",
          "text": [
            "['physics', 'is', 'boring']\n"
          ]
        }
      ]
    },
    {
      "cell_type": "markdown",
      "source": [
        "What if I think more highly of physics and want to change the word boring? We can delete the third object of a list with list.pop(). We have to specify which element we want to delete. Python **indexes starting at 0**. This means that the third element of fun is my_opinion[2]. We'll talk more about accessing by index of an array later, but it's important to note that you need hard brackets. Let's get rid of boring and say physics is fun!"
      ],
      "metadata": {
        "id": "gS3Oi7DGwi-u"
      }
    },
    {
      "cell_type": "code",
      "source": [
        "my_opinion = ['physics', 'is', 'boring']\n",
        "positive_opinion = 'fun'\n",
        "my_opinion.pop(2)\n",
        "print(my_opinion)\n",
        "my_opinion.append(positive_opinion)\n",
        "print(my_opinion)"
      ],
      "metadata": {
        "id": "t3EfArcHzWPH",
        "colab": {
          "base_uri": "https://localhost:8080/"
        },
        "outputId": "34e7ed23-abcf-426b-d4bc-3f336426dce1"
      },
      "execution_count": null,
      "outputs": [
        {
          "output_type": "stream",
          "name": "stdout",
          "text": [
            "['physics', 'is']\n",
            "['physics', 'is', 'fun']\n"
          ]
        }
      ]
    },
    {
      "cell_type": "markdown",
      "source": [
        "What if I want to insert the word \"not\"? Because I don't think it's boring but it's also not exactly fun? We can use list.insert(position, object). The position is the indices we want to put the object BEFORE. Aka here, we want to put this before the third object. Note: we can use either '' or \"\" to define strings."
      ],
      "metadata": {
        "id": "_Qg1Ei-E2MRc"
      }
    },
    {
      "cell_type": "code",
      "source": [
        "my_opinion = ['physics', 'is', 'fun']\n",
        "my_opinion.insert(2,\"not\")\n",
        "print(my_opinion)"
      ],
      "metadata": {
        "id": "-xN_FKnj2xsj"
      },
      "execution_count": null,
      "outputs": []
    },
    {
      "cell_type": "markdown",
      "source": [
        "We can figure out some more properties of lists like its length or how many times something occurs in a list. If we have a list of numbers, we can also find out the maximum and minimum. Let's look at how many, say, apples get eaten in a week."
      ],
      "metadata": {
        "id": "KUDnMWu61klx"
      }
    },
    {
      "cell_type": "code",
      "source": [
        "apples_eaten = [2, 2, 2, 1, 0, 2, 3]\n",
        "print(\"The number of days in a week is\", len(apples_eaten))\n",
        "print(\"The maximum and minimum numbers of apples eaten in a day are (respectively):\")\n",
        "print(max(apples_eaten))\n",
        "print(min(apples_eaten))\n",
        "\n",
        "print(\"We ate two apples\", apples_eaten.count(2), \"days this week\")\n",
        "\n",
        "print(\"The index of the day we first ate one apple is\",apples_eaten.index(1))\n",
        "print(\"But we first ate one apple on day\", apples_eaten.index(1)+1 )\n",
        "\n",
        "print(\"This week we ate a total of\",sum(apples_eaten), \"apples\")\n"
      ],
      "metadata": {
        "id": "qcZCdwc331WE"
      },
      "execution_count": null,
      "outputs": []
    },
    {
      "metadata": {
        "id": "BUJrW5j07oIj"
      },
      "cell_type": "markdown",
      "source": [
        "To install Numpy on Ubuntu systems, run\n",
        "\n",
        "    sudo apt-get install python-numpy\n",
        "\n",
        "The main object is ndarray (N-dimensional array).\n",
        "\n",
        "The data type is specified by another NumPy object called dtype (data-type); each ndarray is associated with only one type of dtype.\n",
        "\n",
        "The number of the dimensions and items in an array is deinfed by its shape, which is a tuple of N-positive intergers that specifies the size for each dimension. The dimensions are defined as axes and the number of axes are defined as rank.\n",
        "\n",
        "Once you define the size of Numpy arrays at the time of createion, it remains unchanged whereas the Python lists can grow or shrink in size"
      ]
    },
    {
      "metadata": {
        "id": "vKX9rWPU7egB"
      },
      "cell_type": "code",
      "source": [
        "import numpy as np"
      ],
      "execution_count": null,
      "outputs": []
    },
    {
      "metadata": {
        "id": "aU_YcrrA9cP0",
        "colab": {
          "base_uri": "https://localhost:8080/"
        },
        "outputId": "7bd0d0b3-c5c9-417d-f175-290ce0beaeda"
      },
      "cell_type": "code",
      "source": [
        "a = np.array([1,2,3]) #define a new ndarray by using array() function\n",
        "print(a)\n",
        "print(type(a)) #check the type of the object\n",
        "a.dtype #check the data-type of the ndarray object"
      ],
      "execution_count": null,
      "outputs": [
        {
          "output_type": "stream",
          "name": "stdout",
          "text": [
            "[1 2 3]\n",
            "<class 'numpy.ndarray'>\n"
          ]
        },
        {
          "output_type": "execute_result",
          "data": {
            "text/plain": [
              "dtype('int64')"
            ]
          },
          "metadata": {},
          "execution_count": 41
        }
      ]
    },
    {
      "metadata": {
        "id": "0SMCtvat93-9"
      },
      "cell_type": "markdown",
      "source": [
        "the ndarray object, a, we just created, has one axis, and then its rank is 1, while its shape should be (3,1).\n",
        "\n",
        "ndim is to get the axes;\n",
        "\n",
        "size is to know the array length\n",
        "\n",
        "shape is to get its shape"
      ]
    },
    {
      "metadata": {
        "id": "Qz-YMjYz-PnE",
        "colab": {
          "base_uri": "https://localhost:8080/"
        },
        "outputId": "31f6ade3-51b7-47e5-fd20-02543a3d6276"
      },
      "cell_type": "code",
      "source": [
        "a.ndim"
      ],
      "execution_count": null,
      "outputs": [
        {
          "output_type": "execute_result",
          "data": {
            "text/plain": [
              "1"
            ]
          },
          "metadata": {},
          "execution_count": 42
        }
      ]
    },
    {
      "metadata": {
        "id": "2rbTRLYe-VCU",
        "colab": {
          "base_uri": "https://localhost:8080/"
        },
        "outputId": "5a42da21-9710-44eb-cd41-5fe70caa7d1b"
      },
      "cell_type": "code",
      "source": [
        "a.size"
      ],
      "execution_count": null,
      "outputs": [
        {
          "output_type": "execute_result",
          "data": {
            "text/plain": [
              "3"
            ]
          },
          "metadata": {},
          "execution_count": 43
        }
      ]
    },
    {
      "metadata": {
        "id": "tnN1LqLy-Wc2",
        "colab": {
          "base_uri": "https://localhost:8080/"
        },
        "outputId": "c34d7d9f-d708-49c0-e8a3-adb7c365bb45"
      },
      "cell_type": "code",
      "source": [
        "a.shape"
      ],
      "execution_count": null,
      "outputs": [
        {
          "output_type": "execute_result",
          "data": {
            "text/plain": [
              "(3,)"
            ]
          },
          "metadata": {},
          "execution_count": 44
        }
      ]
    },
    {
      "metadata": {
        "id": "BKTg6a0O-gZY"
      },
      "cell_type": "markdown",
      "source": [
        "To create another array which has rank 2 (2 axes), each of axes has length 2"
      ]
    },
    {
      "metadata": {
        "id": "7pnsYafS-uA8"
      },
      "cell_type": "code",
      "source": [
        "b = np.array([[1.3, 2.4],[0.3, 4.1]])"
      ],
      "execution_count": null,
      "outputs": []
    },
    {
      "metadata": {
        "id": "CsbJ-xTM-1ud",
        "colab": {
          "base_uri": "https://localhost:8080/"
        },
        "outputId": "4a04a1f0-f6f8-44c6-aa0d-f66ce4ca3851"
      },
      "cell_type": "code",
      "source": [
        "b.dtype"
      ],
      "execution_count": null,
      "outputs": [
        {
          "output_type": "execute_result",
          "data": {
            "text/plain": [
              "dtype('float64')"
            ]
          },
          "metadata": {},
          "execution_count": 46
        }
      ]
    },
    {
      "metadata": {
        "id": "yz59HWW_-2-z",
        "colab": {
          "base_uri": "https://localhost:8080/"
        },
        "outputId": "f81caedd-3e82-48b9-ceda-980f37079ad1"
      },
      "cell_type": "code",
      "source": [
        "b.ndim"
      ],
      "execution_count": null,
      "outputs": [
        {
          "output_type": "execute_result",
          "data": {
            "text/plain": [
              "2"
            ]
          },
          "metadata": {},
          "execution_count": 47
        }
      ]
    },
    {
      "metadata": {
        "id": "UHIvQr8U-4DJ",
        "colab": {
          "base_uri": "https://localhost:8080/"
        },
        "outputId": "07b8f24d-7cfe-4b84-96c2-a195736c3661"
      },
      "cell_type": "code",
      "source": [
        "b.size"
      ],
      "execution_count": null,
      "outputs": [
        {
          "output_type": "execute_result",
          "data": {
            "text/plain": [
              "4"
            ]
          },
          "metadata": {},
          "execution_count": 48
        }
      ]
    },
    {
      "metadata": {
        "id": "GmptGqGs-4uQ",
        "colab": {
          "base_uri": "https://localhost:8080/"
        },
        "outputId": "d88c2c40-42ba-4b97-ae96-de013e7b7504"
      },
      "cell_type": "code",
      "source": [
        "b.shape"
      ],
      "execution_count": null,
      "outputs": [
        {
          "output_type": "execute_result",
          "data": {
            "text/plain": [
              "(2, 2)"
            ]
          },
          "metadata": {},
          "execution_count": 49
        }
      ]
    },
    {
      "metadata": {
        "id": "oHlGlxOZ_Mn2"
      },
      "cell_type": "markdown",
      "source": [
        "**itemsize** atttribute is important because it defines the size in bytes of each item in the array"
      ]
    },
    {
      "metadata": {
        "id": "wobmheVL_fEB",
        "colab": {
          "base_uri": "https://localhost:8080/"
        },
        "outputId": "340a3e13-c493-46b7-85bf-3d804669f79b"
      },
      "cell_type": "code",
      "source": [
        "b.itemsize"
      ],
      "execution_count": null,
      "outputs": [
        {
          "output_type": "execute_result",
          "data": {
            "text/plain": [
              "8"
            ]
          },
          "metadata": {},
          "execution_count": 50
        }
      ]
    },
    {
      "metadata": {
        "id": "u03MkLfe_jw2"
      },
      "cell_type": "markdown",
      "source": [
        "**data** attribute is the buffer containing the actual elements of the array"
      ]
    },
    {
      "metadata": {
        "id": "cpAd49lp_w4z",
        "colab": {
          "base_uri": "https://localhost:8080/"
        },
        "outputId": "82e41212-51e0-49d5-d939-4c38b55552ed"
      },
      "cell_type": "code",
      "source": [
        "b.data"
      ],
      "execution_count": null,
      "outputs": [
        {
          "output_type": "execute_result",
          "data": {
            "text/plain": [
              "<memory at 0x7f2e9c4aa830>"
            ]
          },
          "metadata": {},
          "execution_count": 51
        }
      ]
    },
    {
      "metadata": {
        "id": "-jH2H80v_6Ao"
      },
      "cell_type": "markdown",
      "source": [
        "##Create an Array\n",
        "\n",
        "use array() function"
      ]
    },
    {
      "metadata": {
        "id": "EmYy1VhWACJC",
        "colab": {
          "base_uri": "https://localhost:8080/"
        },
        "outputId": "3f2278fb-429c-4407-bd21-b6a6f2cc55c4"
      },
      "cell_type": "code",
      "source": [
        "c = np.array([[1,2,3],[4,5,6]])\n",
        "c"
      ],
      "execution_count": null,
      "outputs": [
        {
          "output_type": "execute_result",
          "data": {
            "text/plain": [
              "array([[1, 2, 3],\n",
              "       [4, 5, 6]])"
            ]
          },
          "metadata": {},
          "execution_count": 58
        }
      ]
    },
    {
      "metadata": {
        "id": "XjRR0rkJAk2J",
        "colab": {
          "base_uri": "https://localhost:8080/"
        },
        "outputId": "fd3731ad-4c0e-47b2-8ef5-7a165c6921e2"
      },
      "cell_type": "code",
      "source": [
        "type(c)"
      ],
      "execution_count": null,
      "outputs": [
        {
          "output_type": "execute_result",
          "data": {
            "text/plain": [
              "numpy.ndarray"
            ]
          },
          "metadata": {},
          "execution_count": 59
        }
      ]
    },
    {
      "metadata": {
        "id": "plb-Vdv9AJB2"
      },
      "cell_type": "markdown",
      "source": [
        "array() also accepts tuples"
      ]
    },
    {
      "metadata": {
        "id": "r4e-DwYWAPyq",
        "colab": {
          "base_uri": "https://localhost:8080/"
        },
        "outputId": "41459941-6c73-4027-bb7c-36dc33ebc9b7"
      },
      "cell_type": "code",
      "source": [
        "d = np.array(((1,2,3),(4,5,6)))\n",
        "d"
      ],
      "execution_count": null,
      "outputs": [
        {
          "output_type": "execute_result",
          "data": {
            "text/plain": [
              "array([[1, 2, 3],\n",
              "       [4, 5, 6]])"
            ]
          },
          "metadata": {},
          "execution_count": 60
        }
      ]
    },
    {
      "metadata": {
        "id": "KwQLCWk_Anae",
        "colab": {
          "base_uri": "https://localhost:8080/"
        },
        "outputId": "9fef5f37-c4b7-4e35-b5d2-e8832f451a5e"
      },
      "cell_type": "code",
      "source": [
        "type(d)"
      ],
      "execution_count": null,
      "outputs": [
        {
          "output_type": "execute_result",
          "data": {
            "text/plain": [
              "numpy.ndarray"
            ]
          },
          "metadata": {},
          "execution_count": 61
        }
      ]
    },
    {
      "metadata": {
        "id": "mikKOcKeAyTU"
      },
      "cell_type": "markdown",
      "source": [
        "array() also accepts mixed lists and tuples"
      ]
    },
    {
      "metadata": {
        "id": "f9b4W4JDA2v1",
        "colab": {
          "base_uri": "https://localhost:8080/"
        },
        "outputId": "7f1e1013-4a92-4e01-a805-edb67abf9f15"
      },
      "cell_type": "code",
      "source": [
        "e = np.array([(1,2,3),[4,5,6],(7,8,9)])\n",
        "e"
      ],
      "execution_count": null,
      "outputs": [
        {
          "output_type": "execute_result",
          "data": {
            "text/plain": [
              "array([[1, 2, 3],\n",
              "       [4, 5, 6],\n",
              "       [7, 8, 9]])"
            ]
          },
          "metadata": {},
          "execution_count": 62
        }
      ]
    },
    {
      "metadata": {
        "id": "GFT5-AeoA_Ea",
        "colab": {
          "base_uri": "https://localhost:8080/"
        },
        "outputId": "b16108c2-6e57-49e6-cade-508c76fa5d34"
      },
      "cell_type": "code",
      "source": [
        "type(e)"
      ],
      "execution_count": null,
      "outputs": [
        {
          "output_type": "execute_result",
          "data": {
            "text/plain": [
              "numpy.ndarray"
            ]
          },
          "metadata": {},
          "execution_count": 63
        }
      ]
    },
    {
      "metadata": {
        "id": "qZCK2dubBH3a"
      },
      "cell_type": "markdown",
      "source": [
        "## Types of Data\n",
        "\n",
        "NumPy arrays can contain a wide variety of data types"
      ]
    },
    {
      "metadata": {
        "id": "NnfLAgBvBOnZ",
        "colab": {
          "base_uri": "https://localhost:8080/"
        },
        "outputId": "5be9ddb8-5ebb-474f-e8dc-e908fd9d82f3"
      },
      "cell_type": "code",
      "source": [
        "g = np.array([['a','b'],['c','d']])\n",
        "g"
      ],
      "execution_count": null,
      "outputs": [
        {
          "output_type": "execute_result",
          "data": {
            "text/plain": [
              "array([['a', 'b'],\n",
              "       ['c', 'd']], dtype='<U1')"
            ]
          },
          "metadata": {},
          "execution_count": 64
        }
      ]
    },
    {
      "metadata": {
        "id": "l3SXK3VRBW_5",
        "colab": {
          "base_uri": "https://localhost:8080/"
        },
        "outputId": "e5da1669-c5ad-4466-ae40-bc8701dcfe66"
      },
      "cell_type": "code",
      "source": [
        "g.dtype"
      ],
      "execution_count": null,
      "outputs": [
        {
          "output_type": "execute_result",
          "data": {
            "text/plain": [
              "dtype('<U1')"
            ]
          },
          "metadata": {},
          "execution_count": 65
        }
      ]
    },
    {
      "metadata": {
        "id": "tGiCZYTJBanN",
        "colab": {
          "base_uri": "https://localhost:8080/",
          "height": 35
        },
        "outputId": "b76829d1-08cb-4de1-f584-33d3adfb5398"
      },
      "cell_type": "code",
      "source": [
        "g.dtype.name #To get the data type name"
      ],
      "execution_count": null,
      "outputs": [
        {
          "output_type": "execute_result",
          "data": {
            "text/plain": [
              "'str32'"
            ],
            "application/vnd.google.colaboratory.intrinsic+json": {
              "type": "string"
            }
          },
          "metadata": {},
          "execution_count": 66
        }
      ]
    },
    {
      "metadata": {
        "id": "cgPP19P9BnHK"
      },
      "cell_type": "markdown",
      "source": [
        "##The dtype Option\n",
        "\n",
        "You can define the dtype using the dtype option as argument of the function"
      ]
    },
    {
      "metadata": {
        "id": "epuvesmzBxiP",
        "colab": {
          "base_uri": "https://localhost:8080/"
        },
        "outputId": "5c23f5c9-a21b-4129-f207-47cbbf618bbd"
      },
      "cell_type": "code",
      "source": [
        "f = np.array([[1,2,3],[4,5,6]], dtype=complex)\n",
        "f"
      ],
      "execution_count": null,
      "outputs": [
        {
          "output_type": "execute_result",
          "data": {
            "text/plain": [
              "array([[1.+0.j, 2.+0.j, 3.+0.j],\n",
              "       [4.+0.j, 5.+0.j, 6.+0.j]])"
            ]
          },
          "metadata": {},
          "execution_count": 67
        }
      ]
    },
    {
      "metadata": {
        "id": "OUQCX3OZB7aR"
      },
      "cell_type": "markdown",
      "source": [
        "##Intrinsic Creation of an Array"
      ]
    },
    {
      "metadata": {
        "id": "0SbmEHILCEH9"
      },
      "cell_type": "markdown",
      "source": [
        "###zeros() function"
      ]
    },
    {
      "metadata": {
        "id": "w9YcxnbpCHSX",
        "colab": {
          "base_uri": "https://localhost:8080/"
        },
        "outputId": "3d5d44d8-94ae-468c-f5e8-da5fa034b696"
      },
      "cell_type": "code",
      "source": [
        "np.zeros((3,3)) #Note: (3,3) <--need the extra () enclosed to specify a 3-by-3 zero matrix"
      ],
      "execution_count": null,
      "outputs": [
        {
          "output_type": "execute_result",
          "data": {
            "text/plain": [
              "array([[0., 0., 0.],\n",
              "       [0., 0., 0.],\n",
              "       [0., 0., 0.]])"
            ]
          },
          "metadata": {},
          "execution_count": 68
        }
      ]
    },
    {
      "metadata": {
        "id": "KywQWb1PCoI9",
        "colab": {
          "base_uri": "https://localhost:8080/",
          "height": 165
        },
        "outputId": "0c8e9312-b8a2-40e7-c561-11b32c21c0f4"
      },
      "cell_type": "code",
      "source": [
        "np.zeros(3,3) #Error.."
      ],
      "execution_count": null,
      "outputs": [
        {
          "output_type": "error",
          "ename": "TypeError",
          "evalue": "ignored",
          "traceback": [
            "\u001b[0;31m---------------------------------------------------------------------------\u001b[0m",
            "\u001b[0;31mTypeError\u001b[0m                                 Traceback (most recent call last)",
            "\u001b[0;32m<ipython-input-69-be3ebe2fca01>\u001b[0m in \u001b[0;36m<module>\u001b[0;34m()\u001b[0m\n\u001b[0;32m----> 1\u001b[0;31m \u001b[0mnp\u001b[0m\u001b[0;34m.\u001b[0m\u001b[0mzeros\u001b[0m\u001b[0;34m(\u001b[0m\u001b[0;36m3\u001b[0m\u001b[0;34m,\u001b[0m\u001b[0;36m3\u001b[0m\u001b[0;34m)\u001b[0m \u001b[0;31m#Error..\u001b[0m\u001b[0;34m\u001b[0m\u001b[0;34m\u001b[0m\u001b[0m\n\u001b[0m",
            "\u001b[0;31mTypeError\u001b[0m: Cannot interpret '3' as a data type"
          ]
        }
      ]
    },
    {
      "metadata": {
        "id": "BY8OcYfwCdS5"
      },
      "cell_type": "markdown",
      "source": [
        "###ones() function"
      ]
    },
    {
      "metadata": {
        "id": "oE5crFudCiTy",
        "colab": {
          "base_uri": "https://localhost:8080/"
        },
        "outputId": "33bce3bd-64a7-4026-945a-9b3ffab08e80"
      },
      "cell_type": "code",
      "source": [
        "np.ones((3,3))"
      ],
      "execution_count": null,
      "outputs": [
        {
          "output_type": "execute_result",
          "data": {
            "text/plain": [
              "array([[1., 1., 1.],\n",
              "       [1., 1., 1.],\n",
              "       [1., 1., 1.]])"
            ]
          },
          "metadata": {},
          "execution_count": 70
        }
      ]
    },
    {
      "metadata": {
        "id": "UiS97G-fC0nE"
      },
      "cell_type": "markdown",
      "source": [
        "###arange() function\n",
        "\n",
        "arange(start, stop(exclusive), step)"
      ]
    },
    {
      "metadata": {
        "id": "ESgXkgNXC4NB",
        "colab": {
          "base_uri": "https://localhost:8080/"
        },
        "outputId": "050196c2-4afe-42af-bdfc-8dda04deb898"
      },
      "cell_type": "code",
      "source": [
        "np.arange(0,10)"
      ],
      "execution_count": null,
      "outputs": [
        {
          "output_type": "execute_result",
          "data": {
            "text/plain": [
              "array([0, 1, 2, 3, 4, 5, 6, 7, 8, 9])"
            ]
          },
          "metadata": {},
          "execution_count": 74
        }
      ]
    },
    {
      "metadata": {
        "id": "voQmzzXnC8Gr",
        "colab": {
          "base_uri": "https://localhost:8080/"
        },
        "outputId": "fee5b793-49f8-4c8b-d957-e42e3a81f6d7"
      },
      "cell_type": "code",
      "source": [
        "np.arange(4,10)"
      ],
      "execution_count": null,
      "outputs": [
        {
          "output_type": "execute_result",
          "data": {
            "text/plain": [
              "array([4, 5, 6, 7, 8, 9])"
            ]
          },
          "metadata": {},
          "execution_count": 75
        }
      ]
    },
    {
      "metadata": {
        "id": "sxtqhCmUDAAg",
        "colab": {
          "base_uri": "https://localhost:8080/"
        },
        "outputId": "493b68f5-0f24-4c9f-e6a6-33f5e802b8bb"
      },
      "cell_type": "code",
      "source": [
        "np.arange(0,12,3) # start, end(exclusive), step"
      ],
      "execution_count": null,
      "outputs": [
        {
          "output_type": "execute_result",
          "data": {
            "text/plain": [
              "array([0, 3, 6, 9])"
            ]
          },
          "metadata": {},
          "execution_count": 76
        }
      ]
    },
    {
      "metadata": {
        "id": "1-txkOBEDJGw",
        "colab": {
          "base_uri": "https://localhost:8080/"
        },
        "outputId": "17f80470-bc7b-4852-f186-1b1aa9f33154"
      },
      "cell_type": "code",
      "source": [
        "np.arange(0,6,0.6)"
      ],
      "execution_count": null,
      "outputs": [
        {
          "output_type": "execute_result",
          "data": {
            "text/plain": [
              "array([0. , 0.6, 1.2, 1.8, 2.4, 3. , 3.6, 4.2, 4.8, 5.4])"
            ]
          },
          "metadata": {},
          "execution_count": 77
        }
      ]
    },
    {
      "metadata": {
        "id": "Q2l64rPcDPyw"
      },
      "cell_type": "markdown",
      "source": [
        "###reshape() function\n",
        "\n",
        "divides a linear array in different parts in the manner specified by the shape argument"
      ]
    },
    {
      "metadata": {
        "id": "XvWgR0InDceV",
        "colab": {
          "base_uri": "https://localhost:8080/"
        },
        "outputId": "f8f3551e-5214-4d72-9f4a-6fafbe693bfc"
      },
      "cell_type": "code",
      "source": [
        "np.arange(0,12).reshape(3,4) # 3 rows, 4 columns"
      ],
      "execution_count": null,
      "outputs": [
        {
          "output_type": "execute_result",
          "data": {
            "text/plain": [
              "array([[ 0,  1,  2,  3],\n",
              "       [ 4,  5,  6,  7],\n",
              "       [ 8,  9, 10, 11]])"
            ]
          },
          "metadata": {},
          "execution_count": 78
        }
      ]
    },
    {
      "metadata": {
        "id": "M7xsBAUjDkp2"
      },
      "cell_type": "markdown",
      "source": [
        "###linspace() function\n",
        "\n",
        "linspace(start, stop(exclusive), number of elements)"
      ]
    },
    {
      "metadata": {
        "id": "bDL1gPzNEAHb",
        "colab": {
          "base_uri": "https://localhost:8080/"
        },
        "outputId": "072b26c8-0c51-4f21-d109-5c90c870d07f"
      },
      "cell_type": "code",
      "source": [
        "np.linspace(0,10,5)"
      ],
      "execution_count": null,
      "outputs": [
        {
          "output_type": "execute_result",
          "data": {
            "text/plain": [
              "array([ 0. ,  2.5,  5. ,  7.5, 10. ])"
            ]
          },
          "metadata": {},
          "execution_count": 79
        }
      ]
    },
    {
      "metadata": {
        "id": "2LIkB4ZCEHsB"
      },
      "cell_type": "markdown",
      "source": [
        "###random() function\n",
        "\n",
        "in the numpy.random module"
      ]
    },
    {
      "metadata": {
        "id": "GvhhLx2REYmp",
        "colab": {
          "base_uri": "https://localhost:8080/"
        },
        "outputId": "2c2bb2e9-2fcd-467e-97b6-29b76c9313be"
      },
      "cell_type": "code",
      "source": [
        "np.random.random(3)"
      ],
      "execution_count": null,
      "outputs": [
        {
          "output_type": "execute_result",
          "data": {
            "text/plain": [
              "array([0.80003846, 0.19226401, 0.53230656])"
            ]
          },
          "metadata": {},
          "execution_count": 80
        }
      ]
    },
    {
      "metadata": {
        "id": "-seoATFfEdEX"
      },
      "cell_type": "markdown",
      "source": [
        "To create multidimensional array, pass the size of the array as an argument"
      ]
    },
    {
      "metadata": {
        "id": "LABhFKrzEhmt",
        "colab": {
          "base_uri": "https://localhost:8080/"
        },
        "outputId": "939e1363-2419-4af9-ef8a-9693486ac5e0"
      },
      "cell_type": "code",
      "source": [
        "np.random.random((3,4)) # 3 rows, 4 columns"
      ],
      "execution_count": null,
      "outputs": [
        {
          "output_type": "execute_result",
          "data": {
            "text/plain": [
              "array([[0.82397258, 0.21168989, 0.45378402, 0.26916356],\n",
              "       [0.76909937, 0.40572542, 0.43176281, 0.66880022],\n",
              "       [0.17760768, 0.25044993, 0.18799054, 0.68445106]])"
            ]
          },
          "metadata": {},
          "execution_count": 81
        }
      ]
    },
    {
      "metadata": {
        "id": "pWaKHpybEzZH"
      },
      "cell_type": "markdown",
      "source": [
        "##Arithmetic Operators"
      ]
    },
    {
      "metadata": {
        "id": "547IRCvVE4wZ",
        "colab": {
          "base_uri": "https://localhost:8080/"
        },
        "outputId": "10461236-227e-4f5f-f822-1774fe81a0e2"
      },
      "cell_type": "code",
      "source": [
        "a = np.arange(4)\n",
        "a"
      ],
      "execution_count": null,
      "outputs": [
        {
          "output_type": "execute_result",
          "data": {
            "text/plain": [
              "array([0, 1, 2, 3])"
            ]
          },
          "metadata": {},
          "execution_count": 82
        }
      ]
    },
    {
      "metadata": {
        "id": "virDNUWdE6t5",
        "colab": {
          "base_uri": "https://localhost:8080/"
        },
        "outputId": "9169c32d-922f-44cc-d284-fd4d17f36ff1"
      },
      "cell_type": "code",
      "source": [
        "a+4"
      ],
      "execution_count": null,
      "outputs": [
        {
          "output_type": "execute_result",
          "data": {
            "text/plain": [
              "array([4, 5, 6, 7])"
            ]
          },
          "metadata": {},
          "execution_count": 83
        }
      ]
    },
    {
      "metadata": {
        "id": "ef6B7PpEE8MK",
        "colab": {
          "base_uri": "https://localhost:8080/"
        },
        "outputId": "0c7cb621-7375-4f8a-b16a-bd2bf81320e7"
      },
      "cell_type": "code",
      "source": [
        "a*2"
      ],
      "execution_count": null,
      "outputs": [
        {
          "output_type": "execute_result",
          "data": {
            "text/plain": [
              "array([0, 2, 4, 6])"
            ]
          },
          "metadata": {},
          "execution_count": 84
        }
      ]
    },
    {
      "metadata": {
        "id": "xd7Qa2m9FGkE"
      },
      "cell_type": "markdown",
      "source": [
        "Note the element-wise operations between two arrays:"
      ]
    },
    {
      "metadata": {
        "id": "KDtGTaceFLcE",
        "colab": {
          "base_uri": "https://localhost:8080/"
        },
        "outputId": "d8fdab81-9b80-4dd1-aabf-412b0b8db3a0"
      },
      "cell_type": "code",
      "source": [
        "b = np.arange(4,8)\n",
        "b"
      ],
      "execution_count": null,
      "outputs": [
        {
          "output_type": "execute_result",
          "data": {
            "text/plain": [
              "array([4, 5, 6, 7])"
            ]
          },
          "metadata": {},
          "execution_count": 85
        }
      ]
    },
    {
      "metadata": {
        "id": "LnmFjBmeFQSb",
        "colab": {
          "base_uri": "https://localhost:8080/"
        },
        "outputId": "1e32c57a-0117-496a-992f-655cacf4d589"
      },
      "cell_type": "code",
      "source": [
        "a + b"
      ],
      "execution_count": null,
      "outputs": [
        {
          "output_type": "execute_result",
          "data": {
            "text/plain": [
              "array([ 4,  6,  8, 10])"
            ]
          },
          "metadata": {},
          "execution_count": 86
        }
      ]
    },
    {
      "metadata": {
        "id": "Dmv8MpjGFRYe",
        "colab": {
          "base_uri": "https://localhost:8080/"
        },
        "outputId": "664f4a40-2829-45b5-df4e-5b1a40ad7517"
      },
      "cell_type": "code",
      "source": [
        "a - b"
      ],
      "execution_count": null,
      "outputs": [
        {
          "output_type": "execute_result",
          "data": {
            "text/plain": [
              "array([-4, -4, -4, -4])"
            ]
          },
          "metadata": {},
          "execution_count": 87
        }
      ]
    },
    {
      "metadata": {
        "id": "QCUQTYOOFSwH",
        "colab": {
          "base_uri": "https://localhost:8080/"
        },
        "outputId": "29ff9796-5180-496f-dbc7-c43b9ef9bd9d"
      },
      "cell_type": "code",
      "source": [
        "a * b"
      ],
      "execution_count": null,
      "outputs": [
        {
          "output_type": "execute_result",
          "data": {
            "text/plain": [
              "array([ 0,  5, 12, 21])"
            ]
          },
          "metadata": {},
          "execution_count": 88
        }
      ]
    },
    {
      "metadata": {
        "id": "tGH5nMg-FviH",
        "colab": {
          "base_uri": "https://localhost:8080/"
        },
        "outputId": "1c59269c-cc79-4801-ed0b-722c26bf9775"
      },
      "cell_type": "code",
      "source": [
        "a * np.sin(b)"
      ],
      "execution_count": null,
      "outputs": [
        {
          "output_type": "execute_result",
          "data": {
            "text/plain": [
              "array([-0.        , -0.95892427, -0.558831  ,  1.9709598 ])"
            ]
          },
          "metadata": {},
          "execution_count": 89
        }
      ]
    },
    {
      "metadata": {
        "id": "OWDHQ2XwFzTe",
        "colab": {
          "base_uri": "https://localhost:8080/"
        },
        "outputId": "cfcd1235-2468-4462-ddd1-8657f2860928"
      },
      "cell_type": "code",
      "source": [
        "a * np.sqrt(b)"
      ],
      "execution_count": null,
      "outputs": [
        {
          "output_type": "execute_result",
          "data": {
            "text/plain": [
              "array([0.        , 2.23606798, 4.89897949, 7.93725393])"
            ]
          },
          "metadata": {},
          "execution_count": 90
        }
      ]
    },
    {
      "metadata": {
        "id": "Vm-on3wNF5k_"
      },
      "cell_type": "markdown",
      "source": [
        "For multidimensional case"
      ]
    },
    {
      "metadata": {
        "id": "zfiPv-3bF72L",
        "colab": {
          "base_uri": "https://localhost:8080/"
        },
        "outputId": "cbec600a-678e-45a6-8aa8-9d07b379b976"
      },
      "cell_type": "code",
      "source": [
        "A = np.arange(0,9).reshape(3,3)\n",
        "A"
      ],
      "execution_count": null,
      "outputs": [
        {
          "output_type": "execute_result",
          "data": {
            "text/plain": [
              "array([[0, 1, 2],\n",
              "       [3, 4, 5],\n",
              "       [6, 7, 8]])"
            ]
          },
          "metadata": {},
          "execution_count": 91
        }
      ]
    },
    {
      "metadata": {
        "id": "d5iDaLVpGFQr",
        "colab": {
          "base_uri": "https://localhost:8080/"
        },
        "outputId": "07d3db82-6676-4122-d948-ebeac314ae2c"
      },
      "cell_type": "code",
      "source": [
        "B = np.ones((3,3))\n",
        "B"
      ],
      "execution_count": null,
      "outputs": [
        {
          "output_type": "execute_result",
          "data": {
            "text/plain": [
              "array([[1., 1., 1.],\n",
              "       [1., 1., 1.],\n",
              "       [1., 1., 1.]])"
            ]
          },
          "metadata": {},
          "execution_count": 92
        }
      ]
    },
    {
      "metadata": {
        "id": "RpNfv2pCGI0R",
        "colab": {
          "base_uri": "https://localhost:8080/"
        },
        "outputId": "f4d8af1a-258a-41c1-d38d-acccf3265a45"
      },
      "cell_type": "code",
      "source": [
        "A * B"
      ],
      "execution_count": null,
      "outputs": [
        {
          "output_type": "execute_result",
          "data": {
            "text/plain": [
              "array([[0., 1., 2.],\n",
              "       [3., 4., 5.],\n",
              "       [6., 7., 8.]])"
            ]
          },
          "metadata": {},
          "execution_count": 93
        }
      ]
    },
    {
      "metadata": {
        "id": "lX-uixotGwtb"
      },
      "cell_type": "markdown",
      "source": [
        "##Increment and Decrement Operators"
      ]
    },
    {
      "metadata": {
        "id": "zh-M7UErG04e",
        "colab": {
          "base_uri": "https://localhost:8080/"
        },
        "outputId": "6fd6caa2-395f-4ed0-b3f8-38e94f1e0739"
      },
      "cell_type": "code",
      "source": [
        "a = np.arange(4)\n",
        "a"
      ],
      "execution_count": null,
      "outputs": [
        {
          "output_type": "execute_result",
          "data": {
            "text/plain": [
              "array([0, 1, 2, 3])"
            ]
          },
          "metadata": {},
          "execution_count": 94
        }
      ]
    },
    {
      "metadata": {
        "id": "kuEfPgl7G3PX",
        "colab": {
          "base_uri": "https://localhost:8080/"
        },
        "outputId": "8113ad3b-8a3d-4f21-b3ea-62af59459e16"
      },
      "cell_type": "code",
      "source": [
        "a += 1\n",
        "a"
      ],
      "execution_count": null,
      "outputs": [
        {
          "output_type": "execute_result",
          "data": {
            "text/plain": [
              "array([1, 2, 3, 4])"
            ]
          },
          "metadata": {},
          "execution_count": 95
        }
      ]
    },
    {
      "metadata": {
        "id": "zphaILWrG5O8",
        "colab": {
          "base_uri": "https://localhost:8080/"
        },
        "outputId": "4af728e0-4f63-490a-e483-d4e42e354a32"
      },
      "cell_type": "code",
      "source": [
        "a -= 1\n",
        "a"
      ],
      "execution_count": null,
      "outputs": [
        {
          "output_type": "execute_result",
          "data": {
            "text/plain": [
              "array([0, 1, 2, 3])"
            ]
          },
          "metadata": {},
          "execution_count": 96
        }
      ]
    },
    {
      "metadata": {
        "id": "BUHRixlJHIJ9",
        "colab": {
          "base_uri": "https://localhost:8080/"
        },
        "outputId": "230f1313-5e43-46f9-e57b-04cac06049dd"
      },
      "cell_type": "code",
      "source": [
        "a *= 2\n",
        "a"
      ],
      "execution_count": null,
      "outputs": [
        {
          "output_type": "execute_result",
          "data": {
            "text/plain": [
              "array([0, 2, 4, 6])"
            ]
          },
          "metadata": {},
          "execution_count": 97
        }
      ]
    },
    {
      "metadata": {
        "id": "wEIIR7MVHhSD"
      },
      "cell_type": "markdown",
      "source": [
        "##Aggregate Functions"
      ]
    },
    {
      "metadata": {
        "id": "HBEDwhKUHjba",
        "colab": {
          "base_uri": "https://localhost:8080/"
        },
        "outputId": "2d42e34d-640a-4618-8b63-54362e2270dd"
      },
      "cell_type": "code",
      "source": [
        "a = np.array([3.3, 4.5, 1.2, 5.7, 0.3])\n",
        "a"
      ],
      "execution_count": null,
      "outputs": [
        {
          "output_type": "execute_result",
          "data": {
            "text/plain": [
              "array([3.3, 4.5, 1.2, 5.7, 0.3])"
            ]
          },
          "metadata": {},
          "execution_count": 98
        }
      ]
    },
    {
      "metadata": {
        "id": "Ig7rzyfRHoiM",
        "colab": {
          "base_uri": "https://localhost:8080/"
        },
        "outputId": "e3e14db4-696f-4d22-c11d-1e8c0acb5294"
      },
      "cell_type": "code",
      "source": [
        "a.sum()"
      ],
      "execution_count": null,
      "outputs": [
        {
          "output_type": "execute_result",
          "data": {
            "text/plain": [
              "15.0"
            ]
          },
          "metadata": {},
          "execution_count": 99
        }
      ]
    },
    {
      "metadata": {
        "id": "v5W8eMACHpfK",
        "colab": {
          "base_uri": "https://localhost:8080/"
        },
        "outputId": "9e97a866-18ec-4d42-ffb8-af7412efbd83"
      },
      "cell_type": "code",
      "source": [
        "a.min()"
      ],
      "execution_count": null,
      "outputs": [
        {
          "output_type": "execute_result",
          "data": {
            "text/plain": [
              "0.3"
            ]
          },
          "metadata": {},
          "execution_count": 100
        }
      ]
    },
    {
      "metadata": {
        "id": "Nzxy9-MBHqWA",
        "colab": {
          "base_uri": "https://localhost:8080/"
        },
        "outputId": "92e6111e-4b43-47e3-eeb8-3e470c10f21e"
      },
      "cell_type": "code",
      "source": [
        "a.max()"
      ],
      "execution_count": null,
      "outputs": [
        {
          "output_type": "execute_result",
          "data": {
            "text/plain": [
              "5.7"
            ]
          },
          "metadata": {},
          "execution_count": 101
        }
      ]
    },
    {
      "metadata": {
        "id": "B7-PZzcxHrJw",
        "colab": {
          "base_uri": "https://localhost:8080/"
        },
        "outputId": "490d14cd-845b-4b10-a8e2-09c15c30833b"
      },
      "cell_type": "code",
      "source": [
        "a.mean()"
      ],
      "execution_count": null,
      "outputs": [
        {
          "output_type": "execute_result",
          "data": {
            "text/plain": [
              "3.0"
            ]
          },
          "metadata": {},
          "execution_count": 102
        }
      ]
    },
    {
      "metadata": {
        "id": "SleZerIDHr-X",
        "colab": {
          "base_uri": "https://localhost:8080/"
        },
        "outputId": "18de77d0-7462-4ec0-9da0-044735eec459"
      },
      "cell_type": "code",
      "source": [
        "a.std()"
      ],
      "execution_count": null,
      "outputs": [
        {
          "output_type": "execute_result",
          "data": {
            "text/plain": [
              "2.0079840636817816"
            ]
          },
          "metadata": {},
          "execution_count": 103
        }
      ]
    },
    {
      "metadata": {
        "id": "PymmV4xaHz6v"
      },
      "cell_type": "markdown",
      "source": [
        "##Indexing, Slicing, and Iterating\n",
        "\n",
        "###Indexing"
      ]
    },
    {
      "metadata": {
        "id": "92Nn2YDJH-rq",
        "colab": {
          "base_uri": "https://localhost:8080/"
        },
        "outputId": "2b81f74a-0209-40db-c244-04f1aeb8ed09"
      },
      "cell_type": "code",
      "source": [
        "a = np.arange(10,16)\n",
        "a"
      ],
      "execution_count": null,
      "outputs": [
        {
          "output_type": "execute_result",
          "data": {
            "text/plain": [
              "array([10, 11, 12, 13, 14, 15])"
            ]
          },
          "metadata": {},
          "execution_count": 104
        }
      ]
    },
    {
      "metadata": {
        "id": "UCqBGKdrIGdf",
        "colab": {
          "base_uri": "https://localhost:8080/"
        },
        "outputId": "2d9daabb-43f5-4865-cba5-37b3200618b4"
      },
      "cell_type": "code",
      "source": [
        "a[4]"
      ],
      "execution_count": null,
      "outputs": [
        {
          "output_type": "execute_result",
          "data": {
            "text/plain": [
              "14"
            ]
          },
          "metadata": {},
          "execution_count": 105
        }
      ]
    },
    {
      "metadata": {
        "id": "JhNGb_UtIIOX",
        "colab": {
          "base_uri": "https://localhost:8080/"
        },
        "outputId": "cc6592ee-63f6-4438-a3e5-3814d8ae35da"
      },
      "cell_type": "code",
      "source": [
        "a[-1]"
      ],
      "execution_count": null,
      "outputs": [
        {
          "output_type": "execute_result",
          "data": {
            "text/plain": [
              "15"
            ]
          },
          "metadata": {},
          "execution_count": 106
        }
      ]
    },
    {
      "metadata": {
        "id": "hbj2Bc-XIKCI",
        "colab": {
          "base_uri": "https://localhost:8080/"
        },
        "outputId": "9960ecdc-e647-432b-b66c-22d11d708037"
      },
      "cell_type": "code",
      "source": [
        "a[-6]"
      ],
      "execution_count": null,
      "outputs": [
        {
          "output_type": "execute_result",
          "data": {
            "text/plain": [
              "10"
            ]
          },
          "metadata": {},
          "execution_count": 107
        }
      ]
    },
    {
      "metadata": {
        "id": "7h0ugPzkIMya"
      },
      "cell_type": "markdown",
      "source": [
        "To select multiple items at once, pass the array of indices in square brackets"
      ]
    },
    {
      "metadata": {
        "id": "0dlZ-etiIT8X",
        "colab": {
          "base_uri": "https://localhost:8080/"
        },
        "outputId": "fbea0c91-03e3-453d-cc23-4187fc9603dd"
      },
      "cell_type": "code",
      "source": [
        "a[[1,3,4]]"
      ],
      "execution_count": null,
      "outputs": [
        {
          "output_type": "execute_result",
          "data": {
            "text/plain": [
              "array([11, 13, 14])"
            ]
          },
          "metadata": {},
          "execution_count": 108
        }
      ]
    },
    {
      "metadata": {
        "id": "keP9q2dcIvp3"
      },
      "cell_type": "markdown",
      "source": [
        "Two-dimensional case,\n",
        "\n",
        "defined by two axes, where axis 0 is the row and axis 1 is the column.\n",
        "\n",
        "Indexing should be a pair of values: first value is the index of the row and the second is the index of the column.\n",
        "\n",
        "pass in the square brackets: [row index, coulmn index]"
      ]
    },
    {
      "metadata": {
        "id": "ABxel0KoJOuG",
        "colab": {
          "base_uri": "https://localhost:8080/"
        },
        "outputId": "3614d55a-bc57-4d5e-c26f-221d9db48eea"
      },
      "cell_type": "code",
      "source": [
        "A = np.arange(10,19).reshape(3,3)\n",
        "A"
      ],
      "execution_count": null,
      "outputs": [
        {
          "output_type": "execute_result",
          "data": {
            "text/plain": [
              "array([[10, 11, 12],\n",
              "       [13, 14, 15],\n",
              "       [16, 17, 18]])"
            ]
          },
          "metadata": {},
          "execution_count": 109
        }
      ]
    },
    {
      "metadata": {
        "id": "_g7Mrz_fJgPf",
        "colab": {
          "base_uri": "https://localhost:8080/"
        },
        "outputId": "a3d93af8-8da2-45c8-8052-7aa42cf5a6d5"
      },
      "cell_type": "code",
      "source": [
        "A[1,2] #index starts with 0"
      ],
      "execution_count": null,
      "outputs": [
        {
          "output_type": "execute_result",
          "data": {
            "text/plain": [
              "15"
            ]
          },
          "metadata": {},
          "execution_count": 110
        }
      ]
    },
    {
      "metadata": {
        "id": "WjXR4bprJmSW"
      },
      "cell_type": "markdown",
      "source": [
        "###Slicing"
      ]
    },
    {
      "metadata": {
        "id": "27ejckEUJzBc",
        "colab": {
          "base_uri": "https://localhost:8080/"
        },
        "outputId": "6747ae2f-1541-48d4-f0a8-664dadf870f0"
      },
      "cell_type": "code",
      "source": [
        "a = np.arange(10,16)\n",
        "a"
      ],
      "execution_count": null,
      "outputs": [
        {
          "output_type": "execute_result",
          "data": {
            "text/plain": [
              "array([10, 11, 12, 13, 14, 15])"
            ]
          },
          "metadata": {},
          "execution_count": 111
        }
      ]
    },
    {
      "metadata": {
        "id": "b6VG__0xJ23A",
        "colab": {
          "base_uri": "https://localhost:8080/"
        },
        "outputId": "a7d8f413-99be-4b38-f1d3-2c7f5948b149"
      },
      "cell_type": "code",
      "source": [
        "a[1:5] #not include the last element"
      ],
      "execution_count": null,
      "outputs": [
        {
          "output_type": "execute_result",
          "data": {
            "text/plain": [
              "array([11, 12, 13, 14])"
            ]
          },
          "metadata": {},
          "execution_count": 112
        }
      ]
    },
    {
      "metadata": {
        "id": "-ENa3VFQKKt8"
      },
      "cell_type": "markdown",
      "source": [
        "To skip a specific number of following items:\n",
        "\n",
        "[start:stop:step]"
      ]
    },
    {
      "metadata": {
        "id": "EkG0h6EhKWgG",
        "colab": {
          "base_uri": "https://localhost:8080/"
        },
        "outputId": "13cb277a-9064-4e60-dc62-7d0fedfc1f87"
      },
      "cell_type": "code",
      "source": [
        "a[1:5:2]"
      ],
      "execution_count": null,
      "outputs": [
        {
          "output_type": "execute_result",
          "data": {
            "text/plain": [
              "array([11, 13])"
            ]
          },
          "metadata": {},
          "execution_count": 113
        }
      ]
    },
    {
      "metadata": {
        "id": "9l2uMy4PKnYq"
      },
      "cell_type": "markdown",
      "source": [
        "More examples"
      ]
    },
    {
      "metadata": {
        "id": "yNJ50llgKoiq",
        "colab": {
          "base_uri": "https://localhost:8080/"
        },
        "outputId": "35bf6f50-e58f-42d7-f736-22b23d2101cd"
      },
      "cell_type": "code",
      "source": [
        "a[::2] #starts at index 0, stops at max index, skip 1 element"
      ],
      "execution_count": null,
      "outputs": [
        {
          "output_type": "execute_result",
          "data": {
            "text/plain": [
              "array([10, 12, 14])"
            ]
          },
          "metadata": {},
          "execution_count": 114
        }
      ]
    },
    {
      "metadata": {
        "id": "uQsmVhq2K8co",
        "colab": {
          "base_uri": "https://localhost:8080/"
        },
        "outputId": "e59a27db-d403-4235-d8be-ff1efd288028"
      },
      "cell_type": "code",
      "source": [
        "a[:5:2] #starts at index 0, stops at index 5, skip 1 element"
      ],
      "execution_count": null,
      "outputs": [
        {
          "output_type": "execute_result",
          "data": {
            "text/plain": [
              "array([10, 12, 14])"
            ]
          },
          "metadata": {},
          "execution_count": 115
        }
      ]
    },
    {
      "metadata": {
        "id": "A7y14cAwLC9h",
        "colab": {
          "base_uri": "https://localhost:8080/"
        },
        "outputId": "6db11625-dd19-4a39-aa06-ad37abfdd2e5"
      },
      "cell_type": "code",
      "source": [
        "a[:5:] #starts at index 0, stops at index 5, skip 0 element"
      ],
      "execution_count": null,
      "outputs": [
        {
          "output_type": "execute_result",
          "data": {
            "text/plain": [
              "array([10, 11, 12, 13, 14])"
            ]
          },
          "metadata": {},
          "execution_count": 116
        }
      ]
    },
    {
      "metadata": {
        "id": "d7-bsJKtLN10"
      },
      "cell_type": "markdown",
      "source": [
        "For two-dimensional array...\n",
        "\n",
        "If you want to extract only the first row,"
      ]
    },
    {
      "metadata": {
        "id": "bk0oBQFRLU2m",
        "colab": {
          "base_uri": "https://localhost:8080/"
        },
        "outputId": "094c2182-c8c5-4fc9-f445-f8c5c8ebf093"
      },
      "cell_type": "code",
      "source": [
        "A = np.arange(10,19).reshape((3,3))\n",
        "A"
      ],
      "execution_count": null,
      "outputs": [
        {
          "output_type": "execute_result",
          "data": {
            "text/plain": [
              "array([[10, 11, 12],\n",
              "       [13, 14, 15],\n",
              "       [16, 17, 18]])"
            ]
          },
          "metadata": {},
          "execution_count": 117
        }
      ]
    },
    {
      "metadata": {
        "id": "KNiLdX_ALZpX",
        "colab": {
          "base_uri": "https://localhost:8080/"
        },
        "outputId": "75cfbc7e-0363-4a96-bd71-45950b48db05"
      },
      "cell_type": "code",
      "source": [
        "A[0,:] #slice at row 0 (first row)"
      ],
      "execution_count": null,
      "outputs": [
        {
          "output_type": "execute_result",
          "data": {
            "text/plain": [
              "array([10, 11, 12])"
            ]
          },
          "metadata": {},
          "execution_count": 118
        }
      ]
    },
    {
      "metadata": {
        "id": "ppvG9nN0Llpj"
      },
      "cell_type": "markdown",
      "source": [
        "extract the first column,"
      ]
    },
    {
      "metadata": {
        "id": "P3lUJIfRLoTD",
        "colab": {
          "base_uri": "https://localhost:8080/"
        },
        "outputId": "f623e5de-bdc5-4777-82b3-4f0165374aed"
      },
      "cell_type": "code",
      "source": [
        "A[:,0]"
      ],
      "execution_count": null,
      "outputs": [
        {
          "output_type": "execute_result",
          "data": {
            "text/plain": [
              "array([10, 13, 16])"
            ]
          },
          "metadata": {},
          "execution_count": 119
        }
      ]
    },
    {
      "metadata": {
        "id": "LNZw0ogYLv5h"
      },
      "cell_type": "markdown",
      "source": [
        "If you want to extract a smaller matrix,"
      ]
    },
    {
      "metadata": {
        "id": "zj3tcrPxLzjI",
        "colab": {
          "base_uri": "https://localhost:8080/"
        },
        "outputId": "48cf2108-7610-4e67-815a-61f589953693"
      },
      "cell_type": "code",
      "source": [
        "A[0:2, 0:2] #Note: from row 0 to row 1, from column 0 to column 1.."
      ],
      "execution_count": null,
      "outputs": [
        {
          "output_type": "execute_result",
          "data": {
            "text/plain": [
              "array([[10, 11],\n",
              "       [13, 14]])"
            ]
          },
          "metadata": {},
          "execution_count": 120
        }
      ]
    },
    {
      "metadata": {
        "id": "ZB0sN8cmMG7w"
      },
      "cell_type": "markdown",
      "source": [
        "If you want to specify an array of indices,"
      ]
    },
    {
      "metadata": {
        "id": "uiMXN7APMNJj",
        "colab": {
          "base_uri": "https://localhost:8080/"
        },
        "outputId": "62844011-c8b3-4284-e682-c091be7e288a"
      },
      "cell_type": "code",
      "source": [
        "A[[0,2], 0:2] # row 0 and row 2, from column 0 to column 1"
      ],
      "execution_count": null,
      "outputs": [
        {
          "output_type": "execute_result",
          "data": {
            "text/plain": [
              "array([[10, 11],\n",
              "       [16, 17]])"
            ]
          },
          "metadata": {},
          "execution_count": 121
        }
      ]
    },
    {
      "metadata": {
        "id": "XYHodlOnMZKG"
      },
      "cell_type": "markdown",
      "source": [
        "###Iterating an Array"
      ]
    },
    {
      "metadata": {
        "id": "fJQAieEAMe_e",
        "colab": {
          "base_uri": "https://localhost:8080/"
        },
        "outputId": "b800de51-b3e4-4908-99c8-9fea7b2a1449"
      },
      "cell_type": "code",
      "source": [
        "for i in a:\n",
        "  print(i)"
      ],
      "execution_count": null,
      "outputs": [
        {
          "output_type": "stream",
          "name": "stdout",
          "text": [
            "10\n",
            "11\n",
            "12\n",
            "13\n",
            "14\n",
            "15\n"
          ]
        }
      ]
    },
    {
      "metadata": {
        "id": "tCyPITiPMkX2"
      },
      "cell_type": "markdown",
      "source": [
        "For two-dimensional array, didn't need nested for loop. Actually, if you apply the for loop to a matrix, it will always perform a scan according to the first axis"
      ]
    },
    {
      "metadata": {
        "id": "GxVEn3OVMiFd",
        "colab": {
          "base_uri": "https://localhost:8080/"
        },
        "outputId": "8b2f929e-0492-4ef4-ba81-7c929e5f611a"
      },
      "cell_type": "code",
      "source": [
        "for row in A:\n",
        "  print(row)"
      ],
      "execution_count": null,
      "outputs": [
        {
          "output_type": "stream",
          "name": "stdout",
          "text": [
            "[10 11 12]\n",
            "[13 14 15]\n",
            "[16 17 18]\n"
          ]
        }
      ]
    },
    {
      "metadata": {
        "id": "dRAmSMaxM7KT"
      },
      "cell_type": "markdown",
      "source": [
        "To make a iteration element by element, use the flat attribute on the matrix object..."
      ]
    },
    {
      "metadata": {
        "id": "wtPr2gj6NEMH",
        "colab": {
          "base_uri": "https://localhost:8080/"
        },
        "outputId": "2cf5674f-aa94-4707-de41-4cb8404d53d0"
      },
      "cell_type": "code",
      "source": [
        "A.flat #didn't show anything"
      ],
      "execution_count": null,
      "outputs": [
        {
          "output_type": "execute_result",
          "data": {
            "text/plain": [
              "<numpy.flatiter at 0x3cb8d00>"
            ]
          },
          "metadata": {},
          "execution_count": 124
        }
      ]
    },
    {
      "metadata": {
        "id": "9gERqymeNJvn",
        "colab": {
          "base_uri": "https://localhost:8080/"
        },
        "outputId": "1539b01a-0868-4b0c-b430-e1747edef48b"
      },
      "cell_type": "code",
      "source": [
        "for item in A.flat:\n",
        "  print(item)"
      ],
      "execution_count": null,
      "outputs": [
        {
          "output_type": "stream",
          "name": "stdout",
          "text": [
            "10\n",
            "11\n",
            "12\n",
            "13\n",
            "14\n",
            "15\n",
            "16\n",
            "17\n",
            "18\n"
          ]
        }
      ]
    },
    {
      "metadata": {
        "id": "UPzVOmgMNYuv"
      },
      "cell_type": "markdown",
      "source": [
        "The **apply_along_axis()** function is used to launch an aggregate function that returns a value calculated for every single column or on every single row.\n",
        "\n",
        "This function takes three arguments: the aggregate function, the axis on which to apply the iteration, and the array.\n",
        "\n",
        "If axis=0, the iteration evaluates the elements column by column. (along axis 0 direction)\n",
        "\n",
        "If axis=1, the iteration evaluates the elements row by row. (along axis 1 direction)"
      ]
    },
    {
      "metadata": {
        "id": "qUzXBomQONOH"
      },
      "cell_type": "code",
      "source": [
        "A"
      ],
      "execution_count": null,
      "outputs": []
    },
    {
      "metadata": {
        "id": "Zqpo5SPsOHMO"
      },
      "cell_type": "code",
      "source": [
        "np.apply_along_axis(np.mean, axis=0, arr=A)"
      ],
      "execution_count": null,
      "outputs": []
    },
    {
      "metadata": {
        "id": "1gdTikpSOR_j"
      },
      "cell_type": "code",
      "source": [
        "np.apply_along_axis(np.mean, axis=1, arr=A)"
      ],
      "execution_count": null,
      "outputs": []
    },
    {
      "metadata": {
        "id": "r2_168wmOf9C"
      },
      "cell_type": "markdown",
      "source": [
        "You can also use this function for user-defined function..."
      ]
    },
    {
      "metadata": {
        "id": "wBb5dSmZOj3E"
      },
      "cell_type": "code",
      "source": [
        "def foo(x):\n",
        "  return x/2"
      ],
      "execution_count": null,
      "outputs": []
    },
    {
      "metadata": {
        "id": "am-IaUWsOoTx"
      },
      "cell_type": "code",
      "source": [
        "np.apply_along_axis(foo, axis=0, arr=A)"
      ],
      "execution_count": null,
      "outputs": []
    },
    {
      "metadata": {
        "id": "SFydz20ZOtt3"
      },
      "cell_type": "code",
      "source": [
        "np.apply_along_axis(foo, axis=1, arr=A)"
      ],
      "execution_count": null,
      "outputs": []
    },
    {
      "metadata": {
        "id": "ZvBhIjSrTEsT"
      },
      "cell_type": "markdown",
      "source": [
        "##Conditions and Boolean Arrays\n",
        "\n",
        "Use the conditions and Boolean opearators to extract elements"
      ]
    },
    {
      "metadata": {
        "id": "Qkvc8Bj2TOU5"
      },
      "cell_type": "code",
      "source": [
        "A = np.random.random((4,4))\n",
        "A"
      ],
      "execution_count": null,
      "outputs": []
    },
    {
      "metadata": {
        "id": "N9MateweTUUs"
      },
      "cell_type": "code",
      "source": [
        "A < 0.5"
      ],
      "execution_count": null,
      "outputs": []
    },
    {
      "metadata": {
        "id": "7u6Vwu1cTWPu"
      },
      "cell_type": "code",
      "source": [
        "A[A < 0.5]"
      ],
      "execution_count": null,
      "outputs": []
    },
    {
      "metadata": {
        "id": "VuQ-qe8DTaqL"
      },
      "cell_type": "markdown",
      "source": [
        "##Shape Manipulation\n",
        "###reshape() fucntion\n",
        "\n",
        "returns a new array and can be used to create new objects"
      ]
    },
    {
      "metadata": {
        "id": "ZW-s3sSAT2NH"
      },
      "cell_type": "code",
      "source": [
        "a = np.random.random(12)\n",
        "a"
      ],
      "execution_count": null,
      "outputs": []
    },
    {
      "metadata": {
        "id": "4WAMJPI3T5b3"
      },
      "cell_type": "code",
      "source": [
        "A = a.reshape(3,4)\n",
        "A"
      ],
      "execution_count": null,
      "outputs": []
    },
    {
      "metadata": {
        "id": "IRJob-RCUFoU"
      },
      "cell_type": "markdown",
      "source": [
        "###shape attribute\n",
        "\n",
        "If you want to modify the object without create a new object, use shape attribute to pass the tuple containing the new dimensions directly"
      ]
    },
    {
      "metadata": {
        "id": "1h3AGRNfUYAX"
      },
      "cell_type": "code",
      "source": [
        "a.shape = (3, 4) #Note: use TUPLE\n",
        "a"
      ],
      "execution_count": null,
      "outputs": []
    },
    {
      "metadata": {
        "id": "Zm2jhDy-UmfB"
      },
      "cell_type": "markdown",
      "source": [
        "###ravel() function\n",
        "\n",
        "Inverse operation: convert a two-dimensional array into a one-dimensional array"
      ]
    },
    {
      "metadata": {
        "id": "WUWBkc3eT7z-"
      },
      "cell_type": "code",
      "source": [
        "a = a.ravel()\n",
        "a"
      ],
      "execution_count": null,
      "outputs": []
    },
    {
      "metadata": {
        "id": "5UE9sQPgVE5C"
      },
      "cell_type": "code",
      "source": [
        "a.shape = (12)\n",
        "a"
      ],
      "execution_count": null,
      "outputs": []
    },
    {
      "metadata": {
        "id": "mKMaBGNBVKYv"
      },
      "cell_type": "markdown",
      "source": [
        "###transpose() function"
      ]
    },
    {
      "metadata": {
        "id": "akvmPj4LVXZN"
      },
      "cell_type": "code",
      "source": [
        "A"
      ],
      "execution_count": null,
      "outputs": []
    },
    {
      "metadata": {
        "id": "CJdQNIrZVNbo"
      },
      "cell_type": "code",
      "source": [
        "A.transpose()"
      ],
      "execution_count": null,
      "outputs": []
    },
    {
      "metadata": {
        "id": "ST1-YskJVQON"
      },
      "cell_type": "markdown",
      "source": [
        "##Array Manipulation\n",
        "###Joining Arrays\n",
        "\n",
        "merge multiple arrays to form a new one that contains all of the arrays"
      ]
    },
    {
      "metadata": {
        "id": "LDu8gUyhVxEV"
      },
      "cell_type": "markdown",
      "source": [
        "**vstack() function**\n",
        "\n",
        "combines the second array as new rows of the first array. The array grows in a vertical direction."
      ]
    },
    {
      "metadata": {
        "id": "sjo4ZbNrV-cW"
      },
      "cell_type": "code",
      "source": [
        "A = np.ones((3,3))\n",
        "B = np.zeros((3,3))\n",
        "np.vstack((A,B)) #argument must be in tuple"
      ],
      "execution_count": null,
      "outputs": []
    },
    {
      "metadata": {
        "id": "25QmUq_DWQB7"
      },
      "cell_type": "markdown",
      "source": [
        "**hstack() function**\n",
        "\n",
        "combines the second array as new columns of the first array. in horizontal direction"
      ]
    },
    {
      "metadata": {
        "id": "_Io_ntwsWY33"
      },
      "cell_type": "code",
      "source": [
        "np.hstack((A,B))"
      ],
      "execution_count": null,
      "outputs": []
    },
    {
      "metadata": {
        "id": "X01waDNEWriV"
      },
      "cell_type": "markdown",
      "source": [
        "**column_stack()** and **row_stack()** are used with one-dimensional arrays"
      ]
    },
    {
      "metadata": {
        "id": "CFj_XVlQWz9j"
      },
      "cell_type": "code",
      "source": [
        "a = np.array([0,1,2])\n",
        "b = np.array([3,4,5])\n",
        "c = np.array([6,7,8])\n",
        "np.column_stack((a,b,c)) #arg must be tuple"
      ],
      "execution_count": null,
      "outputs": []
    },
    {
      "metadata": {
        "id": "2e4YeYKrXDZ7"
      },
      "cell_type": "code",
      "source": [
        "np.row_stack((a,b,c))"
      ],
      "execution_count": null,
      "outputs": []
    },
    {
      "metadata": {
        "id": "yDy_-k0FXGkA"
      },
      "cell_type": "markdown",
      "source": [
        "###Splitting Arrays"
      ]
    },
    {
      "metadata": {
        "id": "rRMreL6JXdTr"
      },
      "cell_type": "code",
      "source": [
        "A = np.arange(16).reshape((4,4))\n",
        "A"
      ],
      "execution_count": null,
      "outputs": []
    },
    {
      "metadata": {
        "id": "oYCBf7A7Xp5s"
      },
      "cell_type": "markdown",
      "source": [
        "**hsplit() function**\n",
        "\n",
        "split the array horizontally, meaning the width of the array is divided into **2** parts"
      ]
    },
    {
      "metadata": {
        "id": "alG2tUXjX47u"
      },
      "cell_type": "code",
      "source": [
        "[B, C] = np.hsplit(A, 2) # second arg means to divide into 2 parts\n",
        "B"
      ],
      "execution_count": null,
      "outputs": []
    },
    {
      "metadata": {
        "id": "ydaa7NwdYD1W"
      },
      "cell_type": "code",
      "source": [
        "C"
      ],
      "execution_count": null,
      "outputs": []
    },
    {
      "metadata": {
        "id": "rZdd-iqNYHQF"
      },
      "cell_type": "markdown",
      "source": [
        "**vsplit() function**\n",
        "\n",
        "split the array vertically, meaning the height of the array is divided into **2** parts"
      ]
    },
    {
      "metadata": {
        "id": "lXwPvyOsYTNi"
      },
      "cell_type": "code",
      "source": [
        "[B, C] = np.vsplit(A, 2)\n",
        "B"
      ],
      "execution_count": null,
      "outputs": []
    },
    {
      "metadata": {
        "id": "sW-Gsa2hYXQo"
      },
      "cell_type": "code",
      "source": [
        "C"
      ],
      "execution_count": null,
      "outputs": []
    },
    {
      "metadata": {
        "id": "xc83S-rmYqrO"
      },
      "cell_type": "markdown",
      "source": [
        "**split() function**\n",
        "\n",
        "allows you to split the array into nonsymmetrical parts\n",
        "\n",
        "You also need to specify the indices of the parts to be divided\n",
        "\n",
        "If axis = 0, the indices will be rows; if axis = 1, the indices will be columns.\n",
        "\n",
        "For example, if you want to divide matrix A into three parts, the first of which is the first column, the second contains the second and the third column, and the third is the last column, you must specify in the following way:"
      ]
    },
    {
      "metadata": {
        "id": "9vV7HAstZk1T"
      },
      "cell_type": "code",
      "source": [
        "[A1, A2, A3] = np.split(A, [1,3], axis = 1) # [1,3] means starting at index 1 and ending at index 2\n",
        "A1"
      ],
      "execution_count": null,
      "outputs": []
    },
    {
      "metadata": {
        "id": "tn_ZLa7AZ2MI"
      },
      "cell_type": "code",
      "source": [
        "A2"
      ],
      "execution_count": null,
      "outputs": []
    },
    {
      "metadata": {
        "id": "WJj1ObVFZ20F"
      },
      "cell_type": "code",
      "source": [
        "A3"
      ],
      "execution_count": null,
      "outputs": []
    },
    {
      "metadata": {
        "id": "SIXIaA90Z51L"
      },
      "cell_type": "markdown",
      "source": [
        "Do the same thing by row:"
      ]
    },
    {
      "metadata": {
        "id": "IoVaE8WEZ73C"
      },
      "cell_type": "code",
      "source": [
        "[A1, A2, A3] = np.split(A, [1,3], axis=0)\n",
        "A1"
      ],
      "execution_count": null,
      "outputs": []
    },
    {
      "metadata": {
        "id": "oHxoNvZvaAu3"
      },
      "cell_type": "code",
      "source": [
        "A2"
      ],
      "execution_count": null,
      "outputs": []
    },
    {
      "metadata": {
        "id": "ZwFzLEjtaBha"
      },
      "cell_type": "code",
      "source": [
        "A3"
      ],
      "execution_count": null,
      "outputs": []
    },
    {
      "metadata": {
        "id": "NK5RKVl2aLkV"
      },
      "cell_type": "markdown",
      "source": [
        "##Copies or Views of Objects\n",
        "\n",
        "The following assignments are just the views of the original array, not a copy!!"
      ]
    },
    {
      "metadata": {
        "id": "ydNcbjeXawo5"
      },
      "cell_type": "code",
      "source": [
        "a = np.array([1,2,3,4])\n",
        "b = a\n",
        "b"
      ],
      "execution_count": null,
      "outputs": []
    },
    {
      "metadata": {
        "id": "h1n7NiVycOiz"
      },
      "cell_type": "code",
      "source": [
        "a[2] = 0\n",
        "b #change in a[2] changes b[2] as well"
      ],
      "execution_count": null,
      "outputs": []
    },
    {
      "metadata": {
        "id": "ANrlPS27cYRL"
      },
      "cell_type": "code",
      "source": [
        "c = a[0:2]\n",
        "c #slicing"
      ],
      "execution_count": null,
      "outputs": []
    },
    {
      "metadata": {
        "id": "e3Y4GEUEcclM"
      },
      "cell_type": "code",
      "source": [
        "a[0] = 0\n",
        "c #change in a[0] changes c[0] as well"
      ],
      "execution_count": null,
      "outputs": []
    },
    {
      "metadata": {
        "id": "VNEdaSNecl-8"
      },
      "cell_type": "markdown",
      "source": [
        "**copy() function** generates a complete and distinct array"
      ]
    },
    {
      "metadata": {
        "id": "18qTVpvmcrRS"
      },
      "cell_type": "code",
      "source": [
        "a = np.array([1,2,3,4])\n",
        "c = a.copy() #real copy\n",
        "c"
      ],
      "execution_count": null,
      "outputs": []
    },
    {
      "metadata": {
        "id": "qX85NoWUcwxf"
      },
      "cell_type": "code",
      "source": [
        "a[0] = 0\n",
        "c #change in a[0] doesn't affect c[0]"
      ],
      "execution_count": null,
      "outputs": []
    },
    {
      "metadata": {
        "id": "3KA_Mxw85jKg"
      },
      "cell_type": "markdown",
      "source": [
        "##Loading and Saving Data in Binary Files\n",
        "\n",
        "###save()\n",
        "\n",
        "The file wil automatically be given the .npy extension\n"
      ]
    },
    {
      "metadata": {
        "id": "b_ebZeOU56b7"
      },
      "cell_type": "code",
      "source": [
        "data = np.random.random(12).reshape((4,3))\n",
        "data"
      ],
      "execution_count": null,
      "outputs": []
    },
    {
      "metadata": {
        "id": "9sq4j1l96EHN"
      },
      "cell_type": "code",
      "source": [
        "np.save('saved_data', data)"
      ],
      "execution_count": null,
      "outputs": []
    },
    {
      "metadata": {
        "id": "WpwAknCt6OQm"
      },
      "cell_type": "markdown",
      "source": [
        "###load()"
      ]
    },
    {
      "metadata": {
        "id": "4IsS77Ld6R5T"
      },
      "cell_type": "code",
      "source": [
        "loaded_data = np.load('saved_data.npy')\n",
        "loaded_data"
      ],
      "execution_count": null,
      "outputs": []
    },
    {
      "cell_type": "markdown",
      "source": [
        "## List comprehesion\n",
        "Task: create a list that contains a series of consecutive sqaured odd numbers from 1 to 19, i.e.,\n",
        "\n",
        "\n",
        "```\n",
        "input = [1, 3, 5, 7, 9, 11, 13, 15, 17, 19]\n",
        "output = [1, 9, 25, 49, 81, 121, 169, 225, 289, 361]\n",
        "```\n",
        "\n"
      ],
      "metadata": {
        "id": "TPkPdOtEGQj6"
      }
    },
    {
      "cell_type": "code",
      "source": [
        "n_start, n_end, n_step = 1, 20, 2"
      ],
      "metadata": {
        "id": "r2sxgTtLJTT7"
      },
      "execution_count": null,
      "outputs": []
    },
    {
      "cell_type": "code",
      "source": [
        "# 1st method\n",
        "# simple for loop\n",
        "start = time.time()\n",
        "list1 = []\n",
        "for i in range(n_start, n_end, n_step):\n",
        "    tmp = i**2\n",
        "    list1.append(tmp)\n",
        "print('Execution time: {:.5} seconds.'.format(time.time()-start))\n",
        "#list1, type(list1)"
      ],
      "metadata": {
        "id": "GryJGvPJHXTE",
        "colab": {
          "base_uri": "https://localhost:8080/"
        },
        "outputId": "ba7d8471-ad00-43c5-ea07-aad1143ed2d5"
      },
      "execution_count": null,
      "outputs": [
        {
          "output_type": "stream",
          "name": "stdout",
          "text": [
            "Execution time: 0.00014806 seconds.\n"
          ]
        }
      ]
    },
    {
      "cell_type": "code",
      "source": [
        "# 2nd method\n",
        "# numpy linspace\n",
        "start = time.time()\n",
        "list1 = (np.arange(n_start, n_end, n_step) **2).tolist()\n",
        "print('Execution time: {:.5} seconds.'.format(time.time()-start))\n",
        "#list2, type(list2)"
      ],
      "metadata": {
        "id": "HWfmK2w6GDuz",
        "colab": {
          "base_uri": "https://localhost:8080/"
        },
        "outputId": "3cde8a01-557d-4d9e-fb61-06f9cdf550f8"
      },
      "execution_count": null,
      "outputs": [
        {
          "output_type": "stream",
          "name": "stdout",
          "text": [
            "Execution time: 0.00017476 seconds.\n"
          ]
        }
      ]
    },
    {
      "cell_type": "code",
      "source": [
        "# 3rd method\n",
        "# list comprehesion\n",
        "start = time.time()\n",
        "list3 = [i**2 for i in range(n_start, n_end, n_step)]\n",
        "print('Execution time: {:.5} seconds.'.format(time.time()-start))\n",
        "#list3, type(list3)"
      ],
      "metadata": {
        "id": "5JjQg457GzmP",
        "colab": {
          "base_uri": "https://localhost:8080/"
        },
        "outputId": "11ac46a6-8074-42fb-945d-5e07db6d3abb"
      },
      "execution_count": null,
      "outputs": [
        {
          "output_type": "stream",
          "name": "stdout",
          "text": [
            "Execution time: 0.00012803 seconds.\n"
          ]
        }
      ]
    },
    {
      "cell_type": "code",
      "source": [
        "# 1st method\n",
        "# simple for loop\n",
        "start = time.time()\n",
        "list1 = []\n",
        "for i in range(n_start, n_end, n_step):\n",
        "    list1.append(i**2)\n",
        "print('Execution time: {:.5} seconds.'.format(time.time()-start))\n",
        "#list1, type(list1)"
      ],
      "metadata": {
        "id": "QvNMJwTKIhZa",
        "colab": {
          "base_uri": "https://localhost:8080/"
        },
        "outputId": "9ed80268-4b5e-46e0-ad7f-f32b04209f07"
      },
      "execution_count": null,
      "outputs": [
        {
          "output_type": "stream",
          "name": "stdout",
          "text": [
            "Execution time: 0.00016093 seconds.\n"
          ]
        }
      ]
    }
  ],
  "metadata": {
    "kernelspec": {
      "display_name": "Python 3",
      "language": "python",
      "name": "python3"
    },
    "language_info": {
      "codemirror_mode": {
        "name": "ipython",
        "version": 3
      },
      "file_extension": ".py",
      "mimetype": "text/x-python",
      "name": "python",
      "nbconvert_exporter": "python",
      "pygments_lexer": "ipython3",
      "version": "3.8.5"
    },
    "colab": {
      "provenance": []
    }
  },
  "nbformat": 4,
  "nbformat_minor": 0
}